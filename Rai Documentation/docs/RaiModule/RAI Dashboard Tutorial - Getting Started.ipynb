{
 "cells": [
  {
   "cell_type": "markdown",
   "id": "9852fb95",
   "metadata": {},
   "source": [
    "### RAI Dashboard Tutorial - Getting Started\n",
    "\n",
    "Github repo: https://github.com/cisco-open/ResponsibleAI.git\n",
    "\n",
    "### Introduction\n",
    "\n",
    "In this notebook, you will learn the simple Demo How RAI can be used without the dashboard to calculate and report on the metrics for a machine learning task.\n",
    "\n",
    "### Install Dependencies and RAI Using Pip\n",
    "\n",
    "List of full dependencies can be found in the [README.md](https://github.com/cisco-open/ResponsibleAI/blob/main/requirements.txt).\n",
    "\n",
    "Project Requires Redis. Redis can be downloaded using the .msi file at:https://github.com/microsoftarchive/redis/releases/tag/win-3.2.100.\n",
    "\n",
    "Please also run``` pip install -r requirements.txt```\n",
    "\n",
    "Please first install the required packages found in requirements.txt. \n",
    "RAI can then be installed using ```pip install --editable```\n"
   ]
  },
  {
   "cell_type": "code",
   "execution_count": 1,
   "id": "67363081",
   "metadata": {},
   "outputs": [],
   "source": [
    "import os\n",
    "import sys\n",
    "import inspect\n",
    "import pandas as pd\n",
    "from sklearn.model_selection import train_test_split\n",
    "from RAI.AISystem import AISystem, Model\n",
    "from RAI.Analysis import AnalysisManager\n",
    "from RAI.dataset import NumpyData, Dataset\n",
    "from RAI.utils import df_to_RAI\n",
    "import numpy as np\n",
    "from sklearn.ensemble import RandomForestClassifier\n",
    "current_dir = os.path.dirname(os.path.abspath(inspect.getfile(inspect.currentframe())))\n",
    "parent_dir = os.path.dirname(current_dir)\n",
    "sys.path.insert(0, parent_dir)\n",
    "np.random.seed(50)"
   ]
  },
  {
   "cell_type": "markdown",
   "id": "8c6fedf3",
   "metadata": {},
   "source": [
    "It starts by importing the necessary libraries"
   ]
  },
  {
   "cell_type": "markdown",
   "id": "e19cbe81",
   "metadata": {},
   "source": [
    "### Get Dataset"
   ]
  },
  {
   "cell_type": "code",
   "execution_count": null,
   "id": "279c2552",
   "metadata": {},
   "outputs": [],
   "source": [
    "data_path = \"../data/adult/\"\n",
    "train_data = pd.read_csv(data_path + \"train.csv\", header=0, skipinitialspace=True, na_values=\"?\")\n",
    "test_data = pd.read_csv(data_path + \"test.csv\", header=0, skipinitialspace=True, na_values=\"?\")\n",
    "all_data = pd.concat([train_data, test_data], ignore_index=True)"
   ]
  },
  {
   "cell_type": "markdown",
   "id": "9368ee71",
   "metadata": {},
   "source": [
    "It read the data from the file train.csv and test.csv into a pandas DataFrame object named all_data.\n",
    "\n",
    "Next,it create another Dataframe with just test data called xTest and yTest.\n",
    "\n",
    "Finally, it create an instance of Dataset that has both train and test datasets inside of it."
   ]
  },
  {
   "cell_type": "markdown",
   "id": "82b8eccc",
   "metadata": {},
   "source": [
    "### Get X and y data, as well as RAI Meta information from the Dataframe"
   ]
  },
  {
   "cell_type": "code",
   "execution_count": null,
   "id": "5abb45c8",
   "metadata": {},
   "outputs": [],
   "source": [
    "rai_meta_information, X, y, rai_output_feature = df_to_RAI(all_data,\n",
    "target_column=\"income-per-year\", normalize=\"Scal"
   ]
  },
  {
   "cell_type": "markdown",
   "id": "0396ae3d",
   "metadata": {},
   "source": [
    "\n",
    "It will create a Dataframe with two columns: X and y.\n",
    "\n",
    "The first column, X, is the input data for the model.\n",
    "\n",
    "The second column, y, is the output of the model and then creates a new Dataframe called rai_output_feature that contains all of the features from RAI’s output feature set."
   ]
  },
  {
   "cell_type": "markdown",
   "id": "c598f886",
   "metadata": {},
   "source": [
    "### Create Data Splits and pass them to RAI"
   ]
  },
  {
   "cell_type": "code",
   "execution_count": null,
   "id": "b473ac1a",
   "metadata": {},
   "outputs": [],
   "source": [
    "xTrain, xTest, yTrain, yTest = train_test_split(X, y, random_state=1, stratify=y)\n",
    "dataset = Dataset({\"train\": NumpyData(xTrain, yTrain), \"test\": NumpyData(xTest, yTest)})"
   ]
  },
  {
   "cell_type": "markdown",
   "id": "9b5368da",
   "metadata": {},
   "source": [
    "It splits the training set into two parts: xTrain and yTrain.\n",
    "\n",
    "Next it create another Dataframe with just test data called xTest and yTest.\n",
    "\n",
    "Finally,it create an instance of Dataset that has both train and test datasets inside of it."
   ]
  },
  {
   "cell_type": "markdown",
   "id": "dc9ebfe2",
   "metadata": {},
   "source": [
    "### Create Model and RAIs representation of it"
   ]
  },
  {
   "cell_type": "code",
   "execution_count": null,
   "id": "6ce23de5",
   "metadata": {},
   "outputs": [],
   "source": [
    "clf = RandomForestClassifier(n_estimators=4, max_depth=6)\n",
    "model = Model(agent=clf, output_features=rai_output_feature,\n",
    "name=\"cisco_income_ai\", predict_fun=clf.predict,\n",
    "predict_prob_fun=clf.predict_proba,\n",
    "description=\"Income Prediction AI\", model_class=\"RFC\")"
   ]
  },
  {
   "cell_type": "markdown",
   "id": "5e1375eb",
   "metadata": {},
   "source": [
    "It Create a Random Forest Classifier object with 4 estimators and 6 trees.\n",
    "\n",
    "The model is then created, which has the attribute set to clf, output_features set to rai_output_feature, name “cisco_income_ai”, predict function set to clf.predict, predict probability function set to clf.predict_proba, description “Income Prediction AI”, and model classed as RFC (Random Forest Classifier).\n",
    "\n",
    "It creates a Random Forest Classifier model and then uses it to predict the income of an individual."
   ]
  },
  {
   "cell_type": "markdown",
   "id": "7fbb1ad1",
   "metadata": {},
   "source": [
    "### Create RAI AISystem to pass all relevant data to RAI"
   ]
  },
  {
   "cell_type": "code",
   "execution_count": null,
   "id": "d240b7ed",
   "metadata": {},
   "outputs": [],
   "source": [
    "ai = AISystem(name=\"income_classification\",  task='binary_classification',\n",
    "             meta_database=rai_meta_information,\n",
    "             dataset=dataset, model=model)\n",
    "\n",
    "configuration = {\"fairness\": {\"priv_group\": {\"race\": {\"privileged\": 1, \"unprivileged\": 0}},\n",
    "                \"protected_attributes\": [\"race\"], \"positive_label\": 1},\n",
    "                \"time_complexity\": \"polynomial\"}\n",
    "ai.initialize(user_config=configuration)\n"
   ]
  },
  {
   "cell_type": "markdown",
   "id": "307f097a",
   "metadata": {},
   "source": [
    "It creates a new AISystem called “income_classification” with the name of income_classification.\n",
    "\n",
    "The task is set to binary classification, and the meta-database is set to rai_meta information. The dataset is then passed in as well as model.\n",
    "\n",
    "Next, it create a configuration object that has fairness. In fairness, there are three groups: privileged (priv), unprivileged (unpriv), and race.The configuration section contains information about what data will be used for this AISystem.\n",
    "\n",
    "In this case, it has two values that are relevant: priv_group which defines how privileged or unprivileged people are in terms of race, and fairness which defines how much fairness there should be in terms of privilege groups."
   ]
  },
  {
   "cell_type": "markdown",
   "id": "6839e416",
   "metadata": {},
   "source": [
    "### Train the model, generate predictions"
   ]
  },
  {
   "cell_type": "code",
   "execution_count": null,
   "id": "0dfb0891",
   "metadata": {},
   "outputs": [],
   "source": [
    "clf.fit(xTrain, yTrain)\n",
    "test_predictions = clf.predict(xTest)"
   ]
  },
  {
   "cell_type": "markdown",
   "id": "3a236793",
   "metadata": {},
   "source": [
    "It then trains the model on a training set of data, and generates predictions for a test set of data."
   ]
  },
  {
   "cell_type": "markdown",
   "id": "2bb77db6",
   "metadata": {},
   "source": [
    "### Pass predictions to RAI"
   ]
  },
  {
   "cell_type": "code",
   "execution_count": null,
   "id": "23681b7f",
   "metadata": {},
   "outputs": [],
   "source": [
    "ai.compute({\"test\": {\"predict\": test_predictions}}, tag='model')"
   ]
  },
  {
   "cell_type": "markdown",
   "id": "eefb9ce9",
   "metadata": {},
   "source": [
    "Generated Predictions for a test set of data passes these predictions to RAI, which returns an object with two fields: test and predict.\n",
    "\n",
    "The first field is called test, and it contains an array of objects that represent the prediction results for each row in xTest.\n",
    "\n",
    "The second field is called predict, and it contains one object that represents the predicted value for each row in xTrain."
   ]
  },
  {
   "cell_type": "markdown",
   "id": "4a24c024",
   "metadata": {},
   "source": [
    "### View results computed by RAI"
   ]
  },
  {
   "cell_type": "code",
   "execution_count": null,
   "id": "58bcd198",
   "metadata": {},
   "outputs": [],
   "source": []
  }
 ],
 "metadata": {
  "kernelspec": {
   "display_name": "Python 3 (ipykernel)",
   "language": "python",
   "name": "python3"
  },
  "language_info": {
   "codemirror_mode": {
    "name": "ipython",
    "version": 3
   },
   "file_extension": ".py",
   "mimetype": "text/x-python",
   "name": "python",
   "nbconvert_exporter": "python",
   "pygments_lexer": "ipython3",
   "version": "3.9.13"
  }
 },
 "nbformat": 4,
 "nbformat_minor": 5
}
