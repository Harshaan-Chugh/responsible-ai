{
 "cells": [
  {
   "cell_type": "markdown",
   "metadata": {
    "id": "zAU4xmf_pqeo"
   },
   "source": [
    "# RAI Dashboard Tutorial - Getting Started\n",
    "\n",
    "Github repo: https://github.com/cisco-open/ResponsibleAI.git\n",
    "\n",
    "## Introduction\n",
    "\n",
    "In this notebook, you will learn the simple Demo how RAI can be used without the dashboard to calculate and report on the metrics for a machine learning task.\n",
    "\n",
    "## Install Dependencies and RAI Using Pip\n",
    "\n",
    "List of full dependencies can be found in the [README.md](https://github.com/cisco-open/ResponsibleAI/blob/main/requirements.txt).\n",
    "\n",
    "Project Requires Redis. Redis can be downloaded using the .msi file at:https://github.com/microsoftarchive/redis/releases/tag/win-3.2.100.\n",
    "\n",
    "Please also run``` pip install -r requirements.txt```\n",
    "\n",
    "Please first install the required packages found in requirements.txt. \n",
    "RAI can then be installed using ```pip install --editable```\n"
   ]
  },
  {
   "cell_type": "code",
   "execution_count": 1,
   "metadata": {
    "execution": {
     "iopub.execute_input": "2022-11-29T18:04:37.232842Z",
     "iopub.status.busy": "2022-11-29T18:04:37.230843Z",
     "iopub.status.idle": "2022-11-29T18:04:46.899626Z",
     "shell.execute_reply": "2022-11-29T18:04:46.898783Z"
    },
    "id": "HWNWn2N0uC25"
   },
   "outputs": [],
   "source": [
    "import os\n",
    "import sys\n",
    "import inspect\n",
    "import pandas as pd\n",
    "from sklearn.model_selection import train_test_split\n",
    "from RAI.AISystem import AISystem, Model\n",
    "from RAI.Analysis import AnalysisManager\n",
    "from RAI.dataset import NumpyData, Dataset\n",
    "from RAI.utils import df_to_RAI\n",
    "import numpy as np\n",
    "from sklearn.ensemble import RandomForestClassifier\n",
    "current_dir = os.path.dirname(os.path.abspath(inspect.getfile(inspect.currentframe())))\n",
    "parent_dir = os.path.dirname(current_dir)\n",
    "sys.path.insert(0, parent_dir)\n",
    "np.random.seed(50)"
   ]
  },
  {
   "cell_type": "markdown",
   "metadata": {
    "id": "qY-lE6t4uEsB"
   },
   "source": [
    "It starts by importing the necessary libraries"
   ]
  },
  {
   "cell_type": "markdown",
   "metadata": {
    "id": "u7GPo2wsuSd1"
   },
   "source": [
    "## Get Dataset"
   ]
  },
  {
   "cell_type": "code",
   "execution_count": 2,
   "metadata": {
    "execution": {
     "iopub.execute_input": "2022-11-29T18:04:46.905632Z",
     "iopub.status.busy": "2022-11-29T18:04:46.904628Z",
     "iopub.status.idle": "2022-11-29T18:04:47.934181Z",
     "shell.execute_reply": "2022-11-29T18:04:47.933373Z"
    },
    "id": "l19Mqzv4ud2G"
   },
   "outputs": [
    {
     "ename": "FileNotFoundError",
     "evalue": "[Errno 2] No such file or directory: '../data/adult/train.csv'",
     "output_type": "error",
     "traceback": [
      "\u001b[1;31m---------------------------------------------------------------------------\u001b[0m",
      "\u001b[1;31mFileNotFoundError\u001b[0m                         Traceback (most recent call last)",
      "Input \u001b[1;32mIn [2]\u001b[0m, in \u001b[0;36m<cell line: 2>\u001b[1;34m()\u001b[0m\n\u001b[0;32m      1\u001b[0m data_path \u001b[38;5;241m=\u001b[39m \u001b[38;5;124m\"\u001b[39m\u001b[38;5;124m../data/adult/\u001b[39m\u001b[38;5;124m\"\u001b[39m\n\u001b[1;32m----> 2\u001b[0m train_data \u001b[38;5;241m=\u001b[39m \u001b[43mpd\u001b[49m\u001b[38;5;241;43m.\u001b[39;49m\u001b[43mread_csv\u001b[49m\u001b[43m(\u001b[49m\u001b[43mdata_path\u001b[49m\u001b[43m \u001b[49m\u001b[38;5;241;43m+\u001b[39;49m\u001b[43m \u001b[49m\u001b[38;5;124;43m\"\u001b[39;49m\u001b[38;5;124;43mtrain.csv\u001b[39;49m\u001b[38;5;124;43m\"\u001b[39;49m\u001b[43m,\u001b[49m\u001b[43m \u001b[49m\u001b[43mheader\u001b[49m\u001b[38;5;241;43m=\u001b[39;49m\u001b[38;5;241;43m0\u001b[39;49m\u001b[43m,\u001b[49m\u001b[43m \u001b[49m\u001b[43mskipinitialspace\u001b[49m\u001b[38;5;241;43m=\u001b[39;49m\u001b[38;5;28;43;01mTrue\u001b[39;49;00m\u001b[43m,\u001b[49m\u001b[43m \u001b[49m\u001b[43mna_values\u001b[49m\u001b[38;5;241;43m=\u001b[39;49m\u001b[38;5;124;43m\"\u001b[39;49m\u001b[38;5;124;43m?\u001b[39;49m\u001b[38;5;124;43m\"\u001b[39;49m\u001b[43m)\u001b[49m\n\u001b[0;32m      3\u001b[0m test_data \u001b[38;5;241m=\u001b[39m pd\u001b[38;5;241m.\u001b[39mread_csv(data_path \u001b[38;5;241m+\u001b[39m \u001b[38;5;124m\"\u001b[39m\u001b[38;5;124mtest.csv\u001b[39m\u001b[38;5;124m\"\u001b[39m, header\u001b[38;5;241m=\u001b[39m\u001b[38;5;241m0\u001b[39m, skipinitialspace\u001b[38;5;241m=\u001b[39m\u001b[38;5;28;01mTrue\u001b[39;00m, na_values\u001b[38;5;241m=\u001b[39m\u001b[38;5;124m\"\u001b[39m\u001b[38;5;124m?\u001b[39m\u001b[38;5;124m\"\u001b[39m)\n\u001b[0;32m      4\u001b[0m all_data \u001b[38;5;241m=\u001b[39m pd\u001b[38;5;241m.\u001b[39mconcat([train_data, test_data], ignore_index\u001b[38;5;241m=\u001b[39m\u001b[38;5;28;01mTrue\u001b[39;00m)\n",
      "File \u001b[1;32m~\\AppData\\Roaming\\Python\\Python39\\site-packages\\pandas\\util\\_decorators.py:311\u001b[0m, in \u001b[0;36mdeprecate_nonkeyword_arguments.<locals>.decorate.<locals>.wrapper\u001b[1;34m(*args, **kwargs)\u001b[0m\n\u001b[0;32m    305\u001b[0m \u001b[38;5;28;01mif\u001b[39;00m \u001b[38;5;28mlen\u001b[39m(args) \u001b[38;5;241m>\u001b[39m num_allow_args:\n\u001b[0;32m    306\u001b[0m     warnings\u001b[38;5;241m.\u001b[39mwarn(\n\u001b[0;32m    307\u001b[0m         msg\u001b[38;5;241m.\u001b[39mformat(arguments\u001b[38;5;241m=\u001b[39marguments),\n\u001b[0;32m    308\u001b[0m         \u001b[38;5;167;01mFutureWarning\u001b[39;00m,\n\u001b[0;32m    309\u001b[0m         stacklevel\u001b[38;5;241m=\u001b[39mstacklevel,\n\u001b[0;32m    310\u001b[0m     )\n\u001b[1;32m--> 311\u001b[0m \u001b[38;5;28;01mreturn\u001b[39;00m func(\u001b[38;5;241m*\u001b[39margs, \u001b[38;5;241m*\u001b[39m\u001b[38;5;241m*\u001b[39mkwargs)\n",
      "File \u001b[1;32m~\\AppData\\Roaming\\Python\\Python39\\site-packages\\pandas\\io\\parsers\\readers.py:586\u001b[0m, in \u001b[0;36mread_csv\u001b[1;34m(filepath_or_buffer, sep, delimiter, header, names, index_col, usecols, squeeze, prefix, mangle_dupe_cols, dtype, engine, converters, true_values, false_values, skipinitialspace, skiprows, skipfooter, nrows, na_values, keep_default_na, na_filter, verbose, skip_blank_lines, parse_dates, infer_datetime_format, keep_date_col, date_parser, dayfirst, cache_dates, iterator, chunksize, compression, thousands, decimal, lineterminator, quotechar, quoting, doublequote, escapechar, comment, encoding, encoding_errors, dialect, error_bad_lines, warn_bad_lines, on_bad_lines, delim_whitespace, low_memory, memory_map, float_precision, storage_options)\u001b[0m\n\u001b[0;32m    571\u001b[0m kwds_defaults \u001b[38;5;241m=\u001b[39m _refine_defaults_read(\n\u001b[0;32m    572\u001b[0m     dialect,\n\u001b[0;32m    573\u001b[0m     delimiter,\n\u001b[1;32m   (...)\u001b[0m\n\u001b[0;32m    582\u001b[0m     defaults\u001b[38;5;241m=\u001b[39m{\u001b[38;5;124m\"\u001b[39m\u001b[38;5;124mdelimiter\u001b[39m\u001b[38;5;124m\"\u001b[39m: \u001b[38;5;124m\"\u001b[39m\u001b[38;5;124m,\u001b[39m\u001b[38;5;124m\"\u001b[39m},\n\u001b[0;32m    583\u001b[0m )\n\u001b[0;32m    584\u001b[0m kwds\u001b[38;5;241m.\u001b[39mupdate(kwds_defaults)\n\u001b[1;32m--> 586\u001b[0m \u001b[38;5;28;01mreturn\u001b[39;00m \u001b[43m_read\u001b[49m\u001b[43m(\u001b[49m\u001b[43mfilepath_or_buffer\u001b[49m\u001b[43m,\u001b[49m\u001b[43m \u001b[49m\u001b[43mkwds\u001b[49m\u001b[43m)\u001b[49m\n",
      "File \u001b[1;32m~\\AppData\\Roaming\\Python\\Python39\\site-packages\\pandas\\io\\parsers\\readers.py:482\u001b[0m, in \u001b[0;36m_read\u001b[1;34m(filepath_or_buffer, kwds)\u001b[0m\n\u001b[0;32m    479\u001b[0m _validate_names(kwds\u001b[38;5;241m.\u001b[39mget(\u001b[38;5;124m\"\u001b[39m\u001b[38;5;124mnames\u001b[39m\u001b[38;5;124m\"\u001b[39m, \u001b[38;5;28;01mNone\u001b[39;00m))\n\u001b[0;32m    481\u001b[0m \u001b[38;5;66;03m# Create the parser.\u001b[39;00m\n\u001b[1;32m--> 482\u001b[0m parser \u001b[38;5;241m=\u001b[39m TextFileReader(filepath_or_buffer, \u001b[38;5;241m*\u001b[39m\u001b[38;5;241m*\u001b[39mkwds)\n\u001b[0;32m    484\u001b[0m \u001b[38;5;28;01mif\u001b[39;00m chunksize \u001b[38;5;129;01mor\u001b[39;00m iterator:\n\u001b[0;32m    485\u001b[0m     \u001b[38;5;28;01mreturn\u001b[39;00m parser\n",
      "File \u001b[1;32m~\\AppData\\Roaming\\Python\\Python39\\site-packages\\pandas\\io\\parsers\\readers.py:811\u001b[0m, in \u001b[0;36mTextFileReader.__init__\u001b[1;34m(self, f, engine, **kwds)\u001b[0m\n\u001b[0;32m    808\u001b[0m \u001b[38;5;28;01mif\u001b[39;00m \u001b[38;5;124m\"\u001b[39m\u001b[38;5;124mhas_index_names\u001b[39m\u001b[38;5;124m\"\u001b[39m \u001b[38;5;129;01min\u001b[39;00m kwds:\n\u001b[0;32m    809\u001b[0m     \u001b[38;5;28mself\u001b[39m\u001b[38;5;241m.\u001b[39moptions[\u001b[38;5;124m\"\u001b[39m\u001b[38;5;124mhas_index_names\u001b[39m\u001b[38;5;124m\"\u001b[39m] \u001b[38;5;241m=\u001b[39m kwds[\u001b[38;5;124m\"\u001b[39m\u001b[38;5;124mhas_index_names\u001b[39m\u001b[38;5;124m\"\u001b[39m]\n\u001b[1;32m--> 811\u001b[0m \u001b[38;5;28mself\u001b[39m\u001b[38;5;241m.\u001b[39m_engine \u001b[38;5;241m=\u001b[39m \u001b[38;5;28;43mself\u001b[39;49m\u001b[38;5;241;43m.\u001b[39;49m\u001b[43m_make_engine\u001b[49m\u001b[43m(\u001b[49m\u001b[38;5;28;43mself\u001b[39;49m\u001b[38;5;241;43m.\u001b[39;49m\u001b[43mengine\u001b[49m\u001b[43m)\u001b[49m\n",
      "File \u001b[1;32m~\\AppData\\Roaming\\Python\\Python39\\site-packages\\pandas\\io\\parsers\\readers.py:1040\u001b[0m, in \u001b[0;36mTextFileReader._make_engine\u001b[1;34m(self, engine)\u001b[0m\n\u001b[0;32m   1036\u001b[0m     \u001b[38;5;28;01mraise\u001b[39;00m \u001b[38;5;167;01mValueError\u001b[39;00m(\n\u001b[0;32m   1037\u001b[0m         \u001b[38;5;124mf\u001b[39m\u001b[38;5;124m\"\u001b[39m\u001b[38;5;124mUnknown engine: \u001b[39m\u001b[38;5;132;01m{\u001b[39;00mengine\u001b[38;5;132;01m}\u001b[39;00m\u001b[38;5;124m (valid options are \u001b[39m\u001b[38;5;132;01m{\u001b[39;00mmapping\u001b[38;5;241m.\u001b[39mkeys()\u001b[38;5;132;01m}\u001b[39;00m\u001b[38;5;124m)\u001b[39m\u001b[38;5;124m\"\u001b[39m\n\u001b[0;32m   1038\u001b[0m     )\n\u001b[0;32m   1039\u001b[0m \u001b[38;5;66;03m# error: Too many arguments for \"ParserBase\"\u001b[39;00m\n\u001b[1;32m-> 1040\u001b[0m \u001b[38;5;28;01mreturn\u001b[39;00m mapping[engine](\u001b[38;5;28mself\u001b[39m\u001b[38;5;241m.\u001b[39mf, \u001b[38;5;241m*\u001b[39m\u001b[38;5;241m*\u001b[39m\u001b[38;5;28mself\u001b[39m\u001b[38;5;241m.\u001b[39moptions)\n",
      "File \u001b[1;32m~\\AppData\\Roaming\\Python\\Python39\\site-packages\\pandas\\io\\parsers\\c_parser_wrapper.py:51\u001b[0m, in \u001b[0;36mCParserWrapper.__init__\u001b[1;34m(self, src, **kwds)\u001b[0m\n\u001b[0;32m     48\u001b[0m kwds[\u001b[38;5;124m\"\u001b[39m\u001b[38;5;124musecols\u001b[39m\u001b[38;5;124m\"\u001b[39m] \u001b[38;5;241m=\u001b[39m \u001b[38;5;28mself\u001b[39m\u001b[38;5;241m.\u001b[39musecols\n\u001b[0;32m     50\u001b[0m \u001b[38;5;66;03m# open handles\u001b[39;00m\n\u001b[1;32m---> 51\u001b[0m \u001b[38;5;28;43mself\u001b[39;49m\u001b[38;5;241;43m.\u001b[39;49m\u001b[43m_open_handles\u001b[49m\u001b[43m(\u001b[49m\u001b[43msrc\u001b[49m\u001b[43m,\u001b[49m\u001b[43m \u001b[49m\u001b[43mkwds\u001b[49m\u001b[43m)\u001b[49m\n\u001b[0;32m     52\u001b[0m \u001b[38;5;28;01massert\u001b[39;00m \u001b[38;5;28mself\u001b[39m\u001b[38;5;241m.\u001b[39mhandles \u001b[38;5;129;01mis\u001b[39;00m \u001b[38;5;129;01mnot\u001b[39;00m \u001b[38;5;28;01mNone\u001b[39;00m\n\u001b[0;32m     54\u001b[0m \u001b[38;5;66;03m# Have to pass int, would break tests using TextReader directly otherwise :(\u001b[39;00m\n",
      "File \u001b[1;32m~\\AppData\\Roaming\\Python\\Python39\\site-packages\\pandas\\io\\parsers\\base_parser.py:222\u001b[0m, in \u001b[0;36mParserBase._open_handles\u001b[1;34m(self, src, kwds)\u001b[0m\n\u001b[0;32m    218\u001b[0m \u001b[38;5;28;01mdef\u001b[39;00m \u001b[38;5;21m_open_handles\u001b[39m(\u001b[38;5;28mself\u001b[39m, src: FilePathOrBuffer, kwds: \u001b[38;5;28mdict\u001b[39m[\u001b[38;5;28mstr\u001b[39m, Any]) \u001b[38;5;241m-\u001b[39m\u001b[38;5;241m>\u001b[39m \u001b[38;5;28;01mNone\u001b[39;00m:\n\u001b[0;32m    219\u001b[0m     \u001b[38;5;124;03m\"\"\"\u001b[39;00m\n\u001b[0;32m    220\u001b[0m \u001b[38;5;124;03m    Let the readers open IOHandles after they are done with their potential raises.\u001b[39;00m\n\u001b[0;32m    221\u001b[0m \u001b[38;5;124;03m    \"\"\"\u001b[39;00m\n\u001b[1;32m--> 222\u001b[0m     \u001b[38;5;28mself\u001b[39m\u001b[38;5;241m.\u001b[39mhandles \u001b[38;5;241m=\u001b[39m \u001b[43mget_handle\u001b[49m\u001b[43m(\u001b[49m\n\u001b[0;32m    223\u001b[0m \u001b[43m        \u001b[49m\u001b[43msrc\u001b[49m\u001b[43m,\u001b[49m\n\u001b[0;32m    224\u001b[0m \u001b[43m        \u001b[49m\u001b[38;5;124;43m\"\u001b[39;49m\u001b[38;5;124;43mr\u001b[39;49m\u001b[38;5;124;43m\"\u001b[39;49m\u001b[43m,\u001b[49m\n\u001b[0;32m    225\u001b[0m \u001b[43m        \u001b[49m\u001b[43mencoding\u001b[49m\u001b[38;5;241;43m=\u001b[39;49m\u001b[43mkwds\u001b[49m\u001b[38;5;241;43m.\u001b[39;49m\u001b[43mget\u001b[49m\u001b[43m(\u001b[49m\u001b[38;5;124;43m\"\u001b[39;49m\u001b[38;5;124;43mencoding\u001b[39;49m\u001b[38;5;124;43m\"\u001b[39;49m\u001b[43m,\u001b[49m\u001b[43m \u001b[49m\u001b[38;5;28;43;01mNone\u001b[39;49;00m\u001b[43m)\u001b[49m\u001b[43m,\u001b[49m\n\u001b[0;32m    226\u001b[0m \u001b[43m        \u001b[49m\u001b[43mcompression\u001b[49m\u001b[38;5;241;43m=\u001b[39;49m\u001b[43mkwds\u001b[49m\u001b[38;5;241;43m.\u001b[39;49m\u001b[43mget\u001b[49m\u001b[43m(\u001b[49m\u001b[38;5;124;43m\"\u001b[39;49m\u001b[38;5;124;43mcompression\u001b[39;49m\u001b[38;5;124;43m\"\u001b[39;49m\u001b[43m,\u001b[49m\u001b[43m \u001b[49m\u001b[38;5;28;43;01mNone\u001b[39;49;00m\u001b[43m)\u001b[49m\u001b[43m,\u001b[49m\n\u001b[0;32m    227\u001b[0m \u001b[43m        \u001b[49m\u001b[43mmemory_map\u001b[49m\u001b[38;5;241;43m=\u001b[39;49m\u001b[43mkwds\u001b[49m\u001b[38;5;241;43m.\u001b[39;49m\u001b[43mget\u001b[49m\u001b[43m(\u001b[49m\u001b[38;5;124;43m\"\u001b[39;49m\u001b[38;5;124;43mmemory_map\u001b[39;49m\u001b[38;5;124;43m\"\u001b[39;49m\u001b[43m,\u001b[49m\u001b[43m \u001b[49m\u001b[38;5;28;43;01mFalse\u001b[39;49;00m\u001b[43m)\u001b[49m\u001b[43m,\u001b[49m\n\u001b[0;32m    228\u001b[0m \u001b[43m        \u001b[49m\u001b[43mstorage_options\u001b[49m\u001b[38;5;241;43m=\u001b[39;49m\u001b[43mkwds\u001b[49m\u001b[38;5;241;43m.\u001b[39;49m\u001b[43mget\u001b[49m\u001b[43m(\u001b[49m\u001b[38;5;124;43m\"\u001b[39;49m\u001b[38;5;124;43mstorage_options\u001b[39;49m\u001b[38;5;124;43m\"\u001b[39;49m\u001b[43m,\u001b[49m\u001b[43m \u001b[49m\u001b[38;5;28;43;01mNone\u001b[39;49;00m\u001b[43m)\u001b[49m\u001b[43m,\u001b[49m\n\u001b[0;32m    229\u001b[0m \u001b[43m        \u001b[49m\u001b[43merrors\u001b[49m\u001b[38;5;241;43m=\u001b[39;49m\u001b[43mkwds\u001b[49m\u001b[38;5;241;43m.\u001b[39;49m\u001b[43mget\u001b[49m\u001b[43m(\u001b[49m\u001b[38;5;124;43m\"\u001b[39;49m\u001b[38;5;124;43mencoding_errors\u001b[39;49m\u001b[38;5;124;43m\"\u001b[39;49m\u001b[43m,\u001b[49m\u001b[43m \u001b[49m\u001b[38;5;124;43m\"\u001b[39;49m\u001b[38;5;124;43mstrict\u001b[39;49m\u001b[38;5;124;43m\"\u001b[39;49m\u001b[43m)\u001b[49m\u001b[43m,\u001b[49m\n\u001b[0;32m    230\u001b[0m \u001b[43m    \u001b[49m\u001b[43m)\u001b[49m\n",
      "File \u001b[1;32m~\\AppData\\Roaming\\Python\\Python39\\site-packages\\pandas\\io\\common.py:702\u001b[0m, in \u001b[0;36mget_handle\u001b[1;34m(path_or_buf, mode, encoding, compression, memory_map, is_text, errors, storage_options)\u001b[0m\n\u001b[0;32m    697\u001b[0m \u001b[38;5;28;01melif\u001b[39;00m \u001b[38;5;28misinstance\u001b[39m(handle, \u001b[38;5;28mstr\u001b[39m):\n\u001b[0;32m    698\u001b[0m     \u001b[38;5;66;03m# Check whether the filename is to be opened in binary mode.\u001b[39;00m\n\u001b[0;32m    699\u001b[0m     \u001b[38;5;66;03m# Binary mode does not support 'encoding' and 'newline'.\u001b[39;00m\n\u001b[0;32m    700\u001b[0m     \u001b[38;5;28;01mif\u001b[39;00m ioargs\u001b[38;5;241m.\u001b[39mencoding \u001b[38;5;129;01mand\u001b[39;00m \u001b[38;5;124m\"\u001b[39m\u001b[38;5;124mb\u001b[39m\u001b[38;5;124m\"\u001b[39m \u001b[38;5;129;01mnot\u001b[39;00m \u001b[38;5;129;01min\u001b[39;00m ioargs\u001b[38;5;241m.\u001b[39mmode:\n\u001b[0;32m    701\u001b[0m         \u001b[38;5;66;03m# Encoding\u001b[39;00m\n\u001b[1;32m--> 702\u001b[0m         handle \u001b[38;5;241m=\u001b[39m \u001b[38;5;28;43mopen\u001b[39;49m\u001b[43m(\u001b[49m\n\u001b[0;32m    703\u001b[0m \u001b[43m            \u001b[49m\u001b[43mhandle\u001b[49m\u001b[43m,\u001b[49m\n\u001b[0;32m    704\u001b[0m \u001b[43m            \u001b[49m\u001b[43mioargs\u001b[49m\u001b[38;5;241;43m.\u001b[39;49m\u001b[43mmode\u001b[49m\u001b[43m,\u001b[49m\n\u001b[0;32m    705\u001b[0m \u001b[43m            \u001b[49m\u001b[43mencoding\u001b[49m\u001b[38;5;241;43m=\u001b[39;49m\u001b[43mioargs\u001b[49m\u001b[38;5;241;43m.\u001b[39;49m\u001b[43mencoding\u001b[49m\u001b[43m,\u001b[49m\n\u001b[0;32m    706\u001b[0m \u001b[43m            \u001b[49m\u001b[43merrors\u001b[49m\u001b[38;5;241;43m=\u001b[39;49m\u001b[43merrors\u001b[49m\u001b[43m,\u001b[49m\n\u001b[0;32m    707\u001b[0m \u001b[43m            \u001b[49m\u001b[43mnewline\u001b[49m\u001b[38;5;241;43m=\u001b[39;49m\u001b[38;5;124;43m\"\u001b[39;49m\u001b[38;5;124;43m\"\u001b[39;49m\u001b[43m,\u001b[49m\n\u001b[0;32m    708\u001b[0m \u001b[43m        \u001b[49m\u001b[43m)\u001b[49m\n\u001b[0;32m    709\u001b[0m     \u001b[38;5;28;01melse\u001b[39;00m:\n\u001b[0;32m    710\u001b[0m         \u001b[38;5;66;03m# Binary mode\u001b[39;00m\n\u001b[0;32m    711\u001b[0m         handle \u001b[38;5;241m=\u001b[39m \u001b[38;5;28mopen\u001b[39m(handle, ioargs\u001b[38;5;241m.\u001b[39mmode)\n",
      "\u001b[1;31mFileNotFoundError\u001b[0m: [Errno 2] No such file or directory: '../data/adult/train.csv'"
     ]
    }
   ],
   "source": [
    "data_path = \"../data/adult/\"\n",
    "train_data = pd.read_csv(data_path + \"train.csv\", header=0, skipinitialspace=True, na_values=\"?\")\n",
    "test_data = pd.read_csv(data_path + \"test.csv\", header=0, skipinitialspace=True, na_values=\"?\")\n",
    "all_data = pd.concat([train_data, test_data], ignore_index=True)"
   ]
  },
  {
   "cell_type": "markdown",
   "metadata": {
    "id": "tauDGxxSuimF"
   },
   "source": [
    "It read the data from the file train.csv and test.csv into a pandas DataFrame object named all_data.\n",
    "\n",
    "Next,it create another Dataframe with just test data called xTest and yTest.\n",
    "\n",
    "Finally, it create an instance of Dataset that has both train and test datasets inside of it."
   ]
  },
  {
   "cell_type": "markdown",
   "metadata": {
    "id": "sC-XSgaWu2IW"
   },
   "source": [
    "## Get X and y data, as well as RAI Meta information from the Dataframe"
   ]
  },
  {
   "cell_type": "code",
   "execution_count": 3,
   "metadata": {
    "execution": {
     "iopub.execute_input": "2022-11-29T18:04:47.959224Z",
     "iopub.status.busy": "2022-11-29T18:04:47.959224Z",
     "iopub.status.idle": "2022-11-29T18:04:47.981185Z",
     "shell.execute_reply": "2022-11-29T18:04:47.980591Z"
    },
    "id": "Fhv7R_bMu_iG"
   },
   "outputs": [
    {
     "ename": "NameError",
     "evalue": "name 'all_data' is not defined",
     "output_type": "error",
     "traceback": [
      "\u001b[1;31m---------------------------------------------------------------------------\u001b[0m",
      "\u001b[1;31mNameError\u001b[0m                                 Traceback (most recent call last)",
      "Input \u001b[1;32mIn [3]\u001b[0m, in \u001b[0;36m<cell line: 1>\u001b[1;34m()\u001b[0m\n\u001b[1;32m----> 1\u001b[0m rai_meta_information, X, y, rai_output_feature \u001b[38;5;241m=\u001b[39m df_to_RAI(\u001b[43mall_data\u001b[49m,\n\u001b[0;32m      2\u001b[0m target_column\u001b[38;5;241m=\u001b[39m\u001b[38;5;124m\"\u001b[39m\u001b[38;5;124mincome-per-year\u001b[39m\u001b[38;5;124m\"\u001b[39m, normalize\u001b[38;5;241m=\u001b[39m\u001b[38;5;124m\"\u001b[39m\u001b[38;5;124mScalar\u001b[39m\u001b[38;5;124m\"\u001b[39m)\n",
      "\u001b[1;31mNameError\u001b[0m: name 'all_data' is not defined"
     ]
    }
   ],
   "source": [
    "rai_meta_information, X, y, rai_output_feature = df_to_RAI(all_data,\n",
    "target_column=\"income-per-year\", normalize=\"Scalar\")"
   ]
  },
  {
   "cell_type": "markdown",
   "metadata": {
    "id": "hUn73e0EvC-K"
   },
   "source": [
    "It will create a Dataframe with two columns: X and y.\n",
    "\n",
    "The first column, X, is the input data for the model.\n",
    "\n",
    "The second column, y, is the output of the model and then creates a new Dataframe called rai_output_feature that contains all of the features from RAI’s output feature set."
   ]
  },
  {
   "cell_type": "markdown",
   "metadata": {
    "id": "uCsbKwLcvKpm"
   },
   "source": [
    "## Create Data Splits and pass them to RAI"
   ]
  },
  {
   "cell_type": "code",
   "execution_count": 4,
   "metadata": {
    "execution": {
     "iopub.execute_input": "2022-11-29T18:04:47.986364Z",
     "iopub.status.busy": "2022-11-29T18:04:47.986364Z",
     "iopub.status.idle": "2022-11-29T18:04:48.011185Z",
     "shell.execute_reply": "2022-11-29T18:04:48.010534Z"
    },
    "id": "X70eG7gYvTmP"
   },
   "outputs": [
    {
     "ename": "NameError",
     "evalue": "name 'X' is not defined",
     "output_type": "error",
     "traceback": [
      "\u001b[1;31m---------------------------------------------------------------------------\u001b[0m",
      "\u001b[1;31mNameError\u001b[0m                                 Traceback (most recent call last)",
      "Input \u001b[1;32mIn [4]\u001b[0m, in \u001b[0;36m<cell line: 1>\u001b[1;34m()\u001b[0m\n\u001b[1;32m----> 1\u001b[0m xTrain, xTest, yTrain, yTest \u001b[38;5;241m=\u001b[39m train_test_split(\u001b[43mX\u001b[49m, y, random_state\u001b[38;5;241m=\u001b[39m\u001b[38;5;241m1\u001b[39m, stratify\u001b[38;5;241m=\u001b[39my)\n\u001b[0;32m      2\u001b[0m dataset \u001b[38;5;241m=\u001b[39m Dataset({\u001b[38;5;124m\"\u001b[39m\u001b[38;5;124mtrain\u001b[39m\u001b[38;5;124m\"\u001b[39m: NumpyData(xTrain, yTrain), \u001b[38;5;124m\"\u001b[39m\u001b[38;5;124mtest\u001b[39m\u001b[38;5;124m\"\u001b[39m: NumpyData(xTest, yTest)})\n",
      "\u001b[1;31mNameError\u001b[0m: name 'X' is not defined"
     ]
    }
   ],
   "source": [
    "xTrain, xTest, yTrain, yTest = train_test_split(X, y, random_state=1, stratify=y)\n",
    "dataset = Dataset({\"train\": NumpyData(xTrain, yTrain), \"test\": NumpyData(xTest, yTest)})"
   ]
  },
  {
   "cell_type": "markdown",
   "metadata": {
    "id": "S48gEmmUvWh4"
   },
   "source": [
    "It splits the training set into two parts: xTrain and yTrain.\n",
    "\n",
    "Next it create another Dataframe with just test data called xTest and yTest.\n",
    "\n",
    "Finally,it create an instance of Dataset that has both train and test datasets inside of it."
   ]
  },
  {
   "cell_type": "markdown",
   "metadata": {
    "id": "N_1-L-UCvaK1"
   },
   "source": [
    "## Create Model and RAIs representation of it"
   ]
  },
  {
   "cell_type": "code",
   "execution_count": 5,
   "metadata": {
    "execution": {
     "iopub.execute_input": "2022-11-29T18:04:48.017182Z",
     "iopub.status.busy": "2022-11-29T18:04:48.016183Z",
     "iopub.status.idle": "2022-11-29T18:04:48.042182Z",
     "shell.execute_reply": "2022-11-29T18:04:48.041361Z"
    },
    "id": "J2DZQhRIpuWb"
   },
   "outputs": [
    {
     "ename": "NameError",
     "evalue": "name 'rai_output_feature' is not defined",
     "output_type": "error",
     "traceback": [
      "\u001b[1;31m---------------------------------------------------------------------------\u001b[0m",
      "\u001b[1;31mNameError\u001b[0m                                 Traceback (most recent call last)",
      "Input \u001b[1;32mIn [5]\u001b[0m, in \u001b[0;36m<cell line: 2>\u001b[1;34m()\u001b[0m\n\u001b[0;32m      1\u001b[0m clf \u001b[38;5;241m=\u001b[39m RandomForestClassifier(n_estimators\u001b[38;5;241m=\u001b[39m\u001b[38;5;241m4\u001b[39m, max_depth\u001b[38;5;241m=\u001b[39m\u001b[38;5;241m6\u001b[39m)\n\u001b[1;32m----> 2\u001b[0m model \u001b[38;5;241m=\u001b[39m Model(agent\u001b[38;5;241m=\u001b[39mclf, output_features\u001b[38;5;241m=\u001b[39m\u001b[43mrai_output_feature\u001b[49m,\n\u001b[0;32m      3\u001b[0m name\u001b[38;5;241m=\u001b[39m\u001b[38;5;124m\"\u001b[39m\u001b[38;5;124mcisco_income_ai\u001b[39m\u001b[38;5;124m\"\u001b[39m, predict_fun\u001b[38;5;241m=\u001b[39mclf\u001b[38;5;241m.\u001b[39mpredict,\n\u001b[0;32m      4\u001b[0m predict_prob_fun\u001b[38;5;241m=\u001b[39mclf\u001b[38;5;241m.\u001b[39mpredict_proba,\n\u001b[0;32m      5\u001b[0m description\u001b[38;5;241m=\u001b[39m\u001b[38;5;124m\"\u001b[39m\u001b[38;5;124mIncome Prediction AI\u001b[39m\u001b[38;5;124m\"\u001b[39m, model_class\u001b[38;5;241m=\u001b[39m\u001b[38;5;124m\"\u001b[39m\u001b[38;5;124mRFC\u001b[39m\u001b[38;5;124m\"\u001b[39m)\n",
      "\u001b[1;31mNameError\u001b[0m: name 'rai_output_feature' is not defined"
     ]
    }
   ],
   "source": [
    "clf = RandomForestClassifier(n_estimators=4, max_depth=6)\n",
    "model = Model(agent=clf, output_features=rai_output_feature,\n",
    "name=\"cisco_income_ai\", predict_fun=clf.predict,\n",
    "predict_prob_fun=clf.predict_proba,\n",
    "description=\"Income Prediction AI\", model_class=\"RFC\")"
   ]
  },
  {
   "cell_type": "markdown",
   "metadata": {
    "id": "VEGpC2XuvjAJ"
   },
   "source": [
    "It Create a Random Forest Classifier object with 4 estimators and 6 trees.\n",
    "\n",
    "The model is then created, which has the attribute set to clf, output_features set to rai_output_feature, name “cisco_income_ai”, predict function set to clf.predict, predict probability function set to clf.predict_proba, description “Income Prediction AI”, and model classed as RFC (Random Forest Classifier).\n",
    "\n",
    "It creates a Random Forest Classifier model and then uses it to predict the income of an individual."
   ]
  },
  {
   "cell_type": "markdown",
   "metadata": {
    "id": "OzxeJZ4HvoB4"
   },
   "source": [
    "## Create RAI AISystem to pass all relevant data to RAI"
   ]
  },
  {
   "cell_type": "code",
   "execution_count": 6,
   "metadata": {
    "execution": {
     "iopub.execute_input": "2022-11-29T18:04:48.048018Z",
     "iopub.status.busy": "2022-11-29T18:04:48.047181Z",
     "iopub.status.idle": "2022-11-29T18:04:48.072684Z",
     "shell.execute_reply": "2022-11-29T18:04:48.071609Z"
    },
    "id": "etXz4YyEvx4J"
   },
   "outputs": [
    {
     "ename": "NameError",
     "evalue": "name 'rai_meta_information' is not defined",
     "output_type": "error",
     "traceback": [
      "\u001b[1;31m---------------------------------------------------------------------------\u001b[0m",
      "\u001b[1;31mNameError\u001b[0m                                 Traceback (most recent call last)",
      "Input \u001b[1;32mIn [6]\u001b[0m, in \u001b[0;36m<cell line: 1>\u001b[1;34m()\u001b[0m\n\u001b[0;32m      1\u001b[0m ai \u001b[38;5;241m=\u001b[39m AISystem(name\u001b[38;5;241m=\u001b[39m\u001b[38;5;124m\"\u001b[39m\u001b[38;5;124mincome_classification\u001b[39m\u001b[38;5;124m\"\u001b[39m,  task\u001b[38;5;241m=\u001b[39m\u001b[38;5;124m'\u001b[39m\u001b[38;5;124mbinary_classification\u001b[39m\u001b[38;5;124m'\u001b[39m,\n\u001b[1;32m----> 2\u001b[0m              meta_database\u001b[38;5;241m=\u001b[39m\u001b[43mrai_meta_information\u001b[49m,\n\u001b[0;32m      3\u001b[0m              dataset\u001b[38;5;241m=\u001b[39mdataset, model\u001b[38;5;241m=\u001b[39mmodel)\n\u001b[0;32m      5\u001b[0m configuration \u001b[38;5;241m=\u001b[39m {\u001b[38;5;124m\"\u001b[39m\u001b[38;5;124mfairness\u001b[39m\u001b[38;5;124m\"\u001b[39m: {\u001b[38;5;124m\"\u001b[39m\u001b[38;5;124mpriv_group\u001b[39m\u001b[38;5;124m\"\u001b[39m: {\u001b[38;5;124m\"\u001b[39m\u001b[38;5;124mrace\u001b[39m\u001b[38;5;124m\"\u001b[39m: {\u001b[38;5;124m\"\u001b[39m\u001b[38;5;124mprivileged\u001b[39m\u001b[38;5;124m\"\u001b[39m: \u001b[38;5;241m1\u001b[39m, \u001b[38;5;124m\"\u001b[39m\u001b[38;5;124munprivileged\u001b[39m\u001b[38;5;124m\"\u001b[39m: \u001b[38;5;241m0\u001b[39m}},\n\u001b[0;32m      6\u001b[0m                 \u001b[38;5;124m\"\u001b[39m\u001b[38;5;124mprotected_attributes\u001b[39m\u001b[38;5;124m\"\u001b[39m: [\u001b[38;5;124m\"\u001b[39m\u001b[38;5;124mrace\u001b[39m\u001b[38;5;124m\"\u001b[39m], \u001b[38;5;124m\"\u001b[39m\u001b[38;5;124mpositive_label\u001b[39m\u001b[38;5;124m\"\u001b[39m: \u001b[38;5;241m1\u001b[39m},\n\u001b[0;32m      7\u001b[0m                 \u001b[38;5;124m\"\u001b[39m\u001b[38;5;124mtime_complexity\u001b[39m\u001b[38;5;124m\"\u001b[39m: \u001b[38;5;124m\"\u001b[39m\u001b[38;5;124mpolynomial\u001b[39m\u001b[38;5;124m\"\u001b[39m}\n\u001b[0;32m      8\u001b[0m ai\u001b[38;5;241m.\u001b[39minitialize(user_config\u001b[38;5;241m=\u001b[39mconfiguration)\n",
      "\u001b[1;31mNameError\u001b[0m: name 'rai_meta_information' is not defined"
     ]
    }
   ],
   "source": [
    "ai = AISystem(name=\"income_classification\",  task='binary_classification',\n",
    "             meta_database=rai_meta_information,\n",
    "             dataset=dataset, model=model)\n",
    "\n",
    "configuration = {\"fairness\": {\"priv_group\": {\"race\": {\"privileged\": 1, \"unprivileged\": 0}},\n",
    "                \"protected_attributes\": [\"race\"], \"positive_label\": 1},\n",
    "                \"time_complexity\": \"polynomial\"}\n",
    "ai.initialize(user_config=configuration)\n"
   ]
  },
  {
   "cell_type": "markdown",
   "metadata": {
    "id": "BfccMbduvyq-"
   },
   "source": [
    "It creates a new AISystem called “income_classification” with the name of income_classification.\n",
    "\n",
    "The task is set to binary classification, and the meta-database is set to rai_meta information. The dataset is then passed in as well as model.\n",
    "\n",
    "Next, it create a configuration object that has fairness. In fairness, there are three groups: privileged (priv), unprivileged (unpriv), and race.The configuration section contains information about what data will be used for this AISystem.\n",
    "\n",
    "In this case, it has two values that are relevant: priv_group which defines how privileged or unprivileged people are in terms of race, and fairness which defines how much fairness there should be in terms of privilege groups."
   ]
  },
  {
   "cell_type": "markdown",
   "metadata": {
    "id": "UuwKagjev3NA"
   },
   "source": [
    "## Train the model, generate predictions"
   ]
  },
  {
   "cell_type": "code",
   "execution_count": 7,
   "metadata": {
    "execution": {
     "iopub.execute_input": "2022-11-29T18:04:48.078615Z",
     "iopub.status.busy": "2022-11-29T18:04:48.077616Z",
     "iopub.status.idle": "2022-11-29T18:04:48.103832Z",
     "shell.execute_reply": "2022-11-29T18:04:48.102446Z"
    },
    "id": "WG2W7BQzv-G5"
   },
   "outputs": [
    {
     "ename": "NameError",
     "evalue": "name 'xTrain' is not defined",
     "output_type": "error",
     "traceback": [
      "\u001b[1;31m---------------------------------------------------------------------------\u001b[0m",
      "\u001b[1;31mNameError\u001b[0m                                 Traceback (most recent call last)",
      "Input \u001b[1;32mIn [7]\u001b[0m, in \u001b[0;36m<cell line: 1>\u001b[1;34m()\u001b[0m\n\u001b[1;32m----> 1\u001b[0m clf\u001b[38;5;241m.\u001b[39mfit(\u001b[43mxTrain\u001b[49m, yTrain)\n\u001b[0;32m      2\u001b[0m test_predictions \u001b[38;5;241m=\u001b[39m clf\u001b[38;5;241m.\u001b[39mpredict(xTest)\n",
      "\u001b[1;31mNameError\u001b[0m: name 'xTrain' is not defined"
     ]
    }
   ],
   "source": [
    "clf.fit(xTrain, yTrain)\n",
    "test_predictions = clf.predict(xTest)"
   ]
  },
  {
   "cell_type": "markdown",
   "metadata": {
    "id": "f9FSkOccv_R7"
   },
   "source": [
    "It then trains the model on a training set of data, and generates predictions for a test set of data."
   ]
  },
  {
   "cell_type": "markdown",
   "metadata": {
    "id": "Za3lckVpwBzZ"
   },
   "source": [
    "## Pass predictions to RAI"
   ]
  },
  {
   "cell_type": "code",
   "execution_count": 8,
   "metadata": {
    "execution": {
     "iopub.execute_input": "2022-11-29T18:04:48.109005Z",
     "iopub.status.busy": "2022-11-29T18:04:48.108735Z",
     "iopub.status.idle": "2022-11-29T18:04:48.134888Z",
     "shell.execute_reply": "2022-11-29T18:04:48.133575Z"
    },
    "id": "No3YMQqfwIRK"
   },
   "outputs": [
    {
     "ename": "NameError",
     "evalue": "name 'ai' is not defined",
     "output_type": "error",
     "traceback": [
      "\u001b[1;31m---------------------------------------------------------------------------\u001b[0m",
      "\u001b[1;31mNameError\u001b[0m                                 Traceback (most recent call last)",
      "Input \u001b[1;32mIn [8]\u001b[0m, in \u001b[0;36m<cell line: 1>\u001b[1;34m()\u001b[0m\n\u001b[1;32m----> 1\u001b[0m \u001b[43mai\u001b[49m\u001b[38;5;241m.\u001b[39mcompute({\u001b[38;5;124m\"\u001b[39m\u001b[38;5;124mtest\u001b[39m\u001b[38;5;124m\"\u001b[39m: {\u001b[38;5;124m\"\u001b[39m\u001b[38;5;124mpredict\u001b[39m\u001b[38;5;124m\"\u001b[39m: test_predictions}}, tag\u001b[38;5;241m=\u001b[39m\u001b[38;5;124m'\u001b[39m\u001b[38;5;124mmodel\u001b[39m\u001b[38;5;124m'\u001b[39m)\n",
      "\u001b[1;31mNameError\u001b[0m: name 'ai' is not defined"
     ]
    }
   ],
   "source": [
    "ai.compute({\"test\": {\"predict\": test_predictions}}, tag='model')"
   ]
  },
  {
   "cell_type": "markdown",
   "metadata": {
    "id": "GQdqwaVRwI-a"
   },
   "source": [
    "Generated Predictions for a test set of data passes these predictions to RAI, which returns an object with two fields: test and predict.\n",
    "\n",
    "The first field is called test, and it contains an array of objects that represent the prediction results for each row in xTest.\n",
    "\n",
    "The second field is called predict, and it contains one object that represents the predicted value for each row in xTrain."
   ]
  },
  {
   "cell_type": "markdown",
   "metadata": {
    "id": "G66ug_O-wNPo"
   },
   "source": [
    "## View results computed by RAI"
   ]
  },
  {
   "cell_type": "code",
   "execution_count": 9,
   "metadata": {
    "execution": {
     "iopub.execute_input": "2022-11-29T18:04:48.140344Z",
     "iopub.status.busy": "2022-11-29T18:04:48.139346Z",
     "iopub.status.idle": "2022-11-29T18:04:48.166865Z",
     "shell.execute_reply": "2022-11-29T18:04:48.164933Z"
    },
    "id": "nUgpTaNQwU0M"
   },
   "outputs": [
    {
     "ename": "NameError",
     "evalue": "name 'ai' is not defined",
     "output_type": "error",
     "traceback": [
      "\u001b[1;31m---------------------------------------------------------------------------\u001b[0m",
      "\u001b[1;31mNameError\u001b[0m                                 Traceback (most recent call last)",
      "Input \u001b[1;32mIn [9]\u001b[0m, in \u001b[0;36m<cell line: 1>\u001b[1;34m()\u001b[0m\n\u001b[1;32m----> 1\u001b[0m \u001b[43mai\u001b[49m\u001b[38;5;241m.\u001b[39mdisplay_metric_values(display_detailed\u001b[38;5;241m=\u001b[39m\u001b[38;5;28;01mTrue\u001b[39;00m)\n\u001b[0;32m      3\u001b[0m analysis \u001b[38;5;241m=\u001b[39m AnalysisManager()\n\u001b[0;32m      4\u001b[0m result \u001b[38;5;241m=\u001b[39m analysis\u001b[38;5;241m.\u001b[39mrun_analysis(ai, \u001b[38;5;124m\"\u001b[39m\u001b[38;5;124mtest\u001b[39m\u001b[38;5;124m\"\u001b[39m, \u001b[38;5;124m\"\u001b[39m\u001b[38;5;124mFairnessAnalysis\u001b[39m\u001b[38;5;124m\"\u001b[39m)\n",
      "\u001b[1;31mNameError\u001b[0m: name 'ai' is not defined"
     ]
    }
   ],
   "source": [
    "ai.display_metric_values(display_detailed=True)\n",
    "\n",
    "analysis = AnalysisManager()\n",
    "result = analysis.run_analysis(ai, \"test\", \"FairnessAnalysis\")\n",
    "print(result[\"FairnessAnalysis\"].to_string())"
   ]
  },
  {
   "cell_type": "markdown",
   "metadata": {
    "id": "ZUHAlGgFwWQ5"
   },
   "source": [
    "Analysis created\n",
    "==== Group Fairness Analysis Results ====\n",
    "1 of 4 tests passed.\n",
    "\n",
    "Statistical Parity Difference Test:\n",
    "This metric is The difference of the rate of favorable outcomes received by the unprivileged group to the privileged group.\n",
    "The idea value is 0.0.\n",
    "It's value of -0.11160752641979553 is not between between 0.1 and -0.1 indicating that there is unfairness.\n",
    "\n",
    "Equal Opportunity Difference Test:\n",
    "This metric is The difference of true positive rates between the unprivileged\n",
    "and the privileged groups.\n",
    "The true positive rate is the ratio of true positives to the total number of actual positives for a given group.\n",
    "The ideal value is 0. A value of < 0 implies higher benefit for the privileged group and a value > 0 implies higher benefit for the unprivileged group.\n",
    "It's value of -0.12121212121212122 is not between between 0.1 and -0.1 indicating that there is unfairness.\n",
    "\n",
    "Average Odds Difference Test:\n",
    "This metric is The average difference of false positive rate (false positives\n",
    "/ negatives) and true positive rate (true positives / positives) between unprivileged and privileged groups.\n",
    "The ideal value is 0.  A value of < 0 implies higher benefit for the privileged group and a value > 0 implies higher benefit for the unprivileged group..\n",
    "It's value of -0.08017127799736495 is between between 0.1 and -0.1 indicating\n",
    "that there is fairness.\n",
    "\n",
    "Disparate Impact Ratio Test:\n",
    "This metric is The ratio of rate of favorable outcome for the unprivileged group to that of the privileged group.\n",
    "The ideal value of this metric is 1.0 A value < 1 implies higher benefit for the privileged group and a value > 1 implies a higher benefit for the unprivileged group.\n",
    "It's value of 0.2581382067390062 is not between between 1.25 and 0.8 indicating that there is unfairness."
   ]
  }
 ],
 "metadata": {
  "colab": {
   "provenance": []
  },
  "kernelspec": {
   "display_name": "Python 3.9.13 64-bit",
   "language": "python",
   "name": "python3"
  },
  "language_info": {
   "codemirror_mode": {
    "name": "ipython",
    "version": 3
   },
   "file_extension": ".py",
   "mimetype": "text/x-python",
   "name": "python",
   "nbconvert_exporter": "python",
   "pygments_lexer": "ipython3",
   "version": "3.9.13"
  },
  "vscode": {
   "interpreter": {
    "hash": "c347c8f9a7ef94e4c9e03b4513be7835ed18f45b99a2a817fb579f408b867b16"
   }
  }
 },
 "nbformat": 4,
 "nbformat_minor": 0
}
