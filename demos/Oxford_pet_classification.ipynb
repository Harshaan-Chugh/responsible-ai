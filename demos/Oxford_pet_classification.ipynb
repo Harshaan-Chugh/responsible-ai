{
 "cells": [
  {
   "cell_type": "markdown",
   "id": "1b55613a",
   "metadata": {},
   "source": [
    "# Oxford_pet_classification"
   ]
  },
  {
   "cell_type": "code",
   "execution_count": null,
   "id": "07a3c8d7",
   "metadata": {},
   "outputs": [],
   "source": [
    "# Copyright 2022 Cisco Systems, Inc. and its affiliates\n",
    "#\n",
    "# Licensed under the Apache License, Version 2.0 (the \"License\");\n",
    "# you may not use this file except in compliance with the License.\n",
    "# You may obtain a copy of the License at\n",
    "#\n",
    "#      http://www.apache.org/licenses/LICENSE-2.0\n",
    "#\n",
    "# Unless required by applicable law or agreed to in writing, software\n",
    "# distributed under the License is distributed on an \"AS IS\" BASIS,\n",
    "# WITHOUT WARRANTIES OR CONDITIONS OF ANY KIND, either express or implied.\n",
    "# See the License for the specific language governing permissions and\n",
    "# limitations under the License.\n",
    "#\n",
    "# SPDX-License-Identifier: Apache-2.0"
   ]
  },
  {
   "cell_type": "markdown",
   "id": "029c7343",
   "metadata": {},
   "source": [
    "\n",
    "## Description \n"
   ]
  },
  {
   "cell_type": "markdown",
   "id": "38336bfe",
   "metadata": {},
   "source": [
    "This demo uses oxford pet dataset and shows how RAI can be used to evaluate image processing tasks during training"
   ]
  },
  {
   "cell_type": "markdown",
   "id": "9a8ecce9",
   "metadata": {},
   "source": [
    "## Importing modules\n"
   ]
  },
  {
   "cell_type": "code",
   "execution_count": null,
   "id": "ef650c60",
   "metadata": {},
   "outputs": [],
   "source": [
    "import os\n",
    "import sys\n",
    "import inspect\n",
    "from torch.optim.lr_scheduler import StepLR\n",
    "import torch\n",
    "import torchvision\n",
    "import torchvision.transforms as transforms\n",
    "import torch.nn as nn\n",
    "import torch.optim as optim\n",
    "import random\n",
    "import numpy as np\n",
    "from torchvision.models import regnet_y_800mf"
   ]
  },
  {
   "cell_type": "markdown",
   "id": "43a9b994",
   "metadata": {},
   "source": [
    "## Importing RAI modules"
   ]
  },
  {
   "cell_type": "code",
   "execution_count": null,
   "id": "760d1a54",
   "metadata": {},
   "outputs": [],
   "source": [
    "from RAI.AISystem import AISystem, Model\n",
    "from RAI.redis import RaiRedis\n",
    "from RAI.dataset import MetaDatabase, Feature, Dataset, IteratorData"
   ]
  },
  {
   "cell_type": "markdown",
   "id": "3065fc2b",
   "metadata": {},
   "source": [
    "## Setup path\n"
   ]
  },
  {
   "cell_type": "code",
   "execution_count": null,
   "id": "82208b89",
   "metadata": {},
   "outputs": [],
   "source": [
    "current_dir = os.path.dirname(os.path.abspath(inspect.getfile(inspect.currentframe())))\n",
    "parent_dir = os.path.dirname(current_dir)\n",
    "sys.path.insert(0, parent_dir)"
   ]
  },
  {
   "cell_type": "markdown",
   "id": "66927af8",
   "metadata": {},
   "source": [
    "## Setup Configuration"
   ]
  },
  {
   "cell_type": "code",
   "execution_count": null,
   "id": "77903dfe",
   "metadata": {},
   "outputs": [],
   "source": [
    "def main():\n",
    "    # Configuration\n",
    "    os.environ[\"CUDA_VISIBLE_DEVICES\"] = \"cpu\"\n",
    "    # torch.manual_seed(0)\n",
    "    # random.seed(0)\n",
    "    # np.random.seed(10)\n",
    "    PATH = './oxford_pet_net.pth'\n",
    "    device = torch.device('cuda') if torch.cuda.is_available() else torch.device('cpu')"
   ]
  },
  {
   "cell_type": "markdown",
   "id": "c876b5bb",
   "metadata": {},
   "source": [
    "## Get Data"
   ]
  },
  {
   "cell_type": "code",
   "execution_count": null,
   "id": "9cae5d65",
   "metadata": {},
   "outputs": [],
   "source": [
    "batch_size = 128\n",
    "    train_transform = transforms.Compose([transforms.ToTensor(),\n",
    "                                          transforms.Normalize((0.485, 0.4484, 0.3949), (0.2693, 0.2648, 0.2728)),\n",
    "                                          transforms.Resize(256), transforms.CenterCrop(224)])\n",
    "    train_set = torchvision.datasets.OxfordIIITPet(root='./data', split=\"trainval\", download=True,\n",
    "                                                   transform=train_transform)\n",
    "    train_loader = torch.utils.data.DataLoader(train_set, batch_size=batch_size, shuffle=True)\n",
    "    test_set = torchvision.datasets.OxfordIIITPet(root='./data', split=\"test\", download=True,\n",
    "                                                  transform=train_transform)\n",
    "    test_loader = torch.utils.data.DataLoader(test_set, batch_size=batch_size, shuffle=False)\n",
    "    output_mapping = train_set.class_to_idx"
   ]
  },
  {
   "cell_type": "markdown",
   "id": "6ecb4e7a",
   "metadata": {},
   "source": [
    " ## Get a Finetuned model for transfer learning"
   ]
  },
  {
   "cell_type": "code",
   "execution_count": null,
   "id": "386161fe",
   "metadata": {},
   "outputs": [],
   "source": [
    "  net = regnet_y_800mf(pretrained=True)\n",
    "    net.fc = nn.Sequential(torch.nn.Linear(784, 1000), torch.nn.Linear(1000, len(output_mapping)))\n",
    "    net = net.to(device)\n",
    "\n",
    "    criterion = nn.CrossEntropyLoss()\n",
    "    optimizer = optim.Adam(net.parameters(), lr=0.01)\n",
    "    scheduler = StepLR(optimizer, step_size=30, gamma=0.1)"
   ]
  },
  {
   "cell_type": "markdown",
   "id": "5639c6ac",
   "metadata": {},
   "source": [
    " ## Define predict function to return class with highest value\n",
    "    "
   ]
  },
  {
   "cell_type": "code",
   "execution_count": null,
   "id": "48f28e9e",
   "metadata": {},
   "outputs": [],
   "source": [
    "\n",
    "    def predict(input_image):\n",
    "        if not isinstance(input_image, torch.Tensor):\n",
    "            input_image = torch.Tensor(input_image)\n",
    "        _, predicted = torch.max(net(input_image), 1)\n",
    "        return predicted.tolist()\n"
   ]
  },
  {
   "cell_type": "markdown",
   "id": "5532224f",
   "metadata": {},
   "source": [
    "  ## Define the output of the model and the RAI model\n",
    "    "
   ]
  },
  {
   "cell_type": "code",
   "execution_count": null,
   "id": "5098ed80",
   "metadata": {},
   "outputs": [],
   "source": [
    "  \n",
    "    output_mapping = {int(v): k for k, v in output_mapping.items()}\n",
    "    outputs = Feature('image_type', 'Numeric', 'The type of image', categorical=True, values=output_mapping)\n",
    "    model = Model(agent=net, output_features=outputs, name=\"reg_net\", predict_fun=predict, description=\"RegNet\",\n",
    "                  model_class=\"RegNet\", loss_function=criterion, optimizer=optimizer)"
   ]
  },
  {
   "cell_type": "markdown",
   "id": "8de57851",
   "metadata": {},
   "source": [
    "\n",
    "   ## Train the model"
   ]
  },
  {
   "cell_type": "code",
   "execution_count": null,
   "id": "72a13cc4",
   "metadata": {},
   "outputs": [],
   "source": [
    "\n",
    "    def train():\n",
    "        for name, param in net.named_parameters():\n",
    "            if name not in [\"fc.weight\", \"fc.bias\"] and not 'block4' in name and not 'block3' in name:\n",
    "                param.requires_grad = False\n",
    "\n",
    "        print(\"Starting training\")\n",
    "        for epoch in range(90):\n",
    "            running_loss = 0.0\n",
    "            for i, data in enumerate(train_loader, 0):\n",
    "                inputs, labels = data\n",
    "                inputs = inputs.to(device)\n",
    "                labels = labels.to(device)\n",
    "                optimizer.zero_grad()\n",
    "                outputs = net(inputs)\n",
    "                loss = criterion(outputs, labels)\n",
    "                loss.backward()\n",
    "                optimizer.step()\n",
    "                running_loss += loss.item()\n",
    "                if i % 20 == 19:\n",
    "                    print(f'[{epoch + 1}, {i + 1:5d}] loss: {running_loss / 20:.3f}')\n",
    "                    running_loss = 0.0\n",
    "            torch.save(net.state_dict(), PATH)\n",
    "            scheduler.step()\n"
   ]
  },
  {
   "cell_type": "markdown",
   "id": "e180e181",
   "metadata": {},
   "source": [
    "   ## Freeze all but last layer\n",
    "        "
   ]
  },
  {
   "cell_type": "code",
   "execution_count": null,
   "id": "149475b5",
   "metadata": {},
   "outputs": [],
   "source": [
    "\n",
    "        for name, param in net.named_parameters():\n",
    "            param.requires_grad = True\n",
    "        torch.save(net.state_dict(), PATH)"
   ]
  },
  {
   "cell_type": "markdown",
   "id": "89afcd91",
   "metadata": {},
   "source": [
    "  ## Load the model if it exists, otherwise train one\n",
    "  "
   ]
  },
  {
   "cell_type": "code",
   "execution_count": null,
   "id": "1fa3a638",
   "metadata": {},
   "outputs": [],
   "source": [
    "\n",
    "    if os.path.isfile(PATH):\n",
    "        print(\"Loading model\")\n",
    "        net.load_state_dict(torch.load(PATH, map_location=device))\n",
    "    else:\n",
    "        train()"
   ]
  },
  {
   "cell_type": "markdown",
   "id": "89030c36",
   "metadata": {},
   "source": [
    "  ## Define model parameters required for Gradcam: f1, classifier, features_conv, flatten\n",
    "    "
   ]
  },
  {
   "cell_type": "code",
   "execution_count": null,
   "id": "48021390",
   "metadata": {},
   "outputs": [],
   "source": [
    "\n",
    "    net.f1 = nn.Sequential(net.avgpool)\n",
    "    net.classifier = net.fc\n",
    "    net.features_conv = nn.Sequential(net.stem, net.trunk_output)\n",
    "    net.flatten = True"
   ]
  },
  {
   "cell_type": "markdown",
   "id": "a17e9430",
   "metadata": {},
   "source": [
    "   ## Define the RAI input and output features\n",
    "   "
   ]
  },
  {
   "cell_type": "code",
   "execution_count": null,
   "id": "f157e12e",
   "metadata": {},
   "outputs": [],
   "source": [
    "\n",
    "    image = Feature('image', 'Image', 'The 32x32 input image')\n",
    "    meta = MetaDatabase([image])"
   ]
  },
  {
   "cell_type": "markdown",
   "id": "9d77fd49",
   "metadata": {},
   "source": [
    "   ## Pass test data split to RAI\n",
    "  "
   ]
  },
  {
   "cell_type": "code",
   "execution_count": null,
   "id": "ebb8120e",
   "metadata": {},
   "outputs": [],
   "source": [
    "\n",
    "    dataset = Dataset({\"test\": IteratorData(test_loader)})"
   ]
  },
  {
   "cell_type": "markdown",
   "id": "2fff24f9",
   "metadata": {},
   "source": [
    " ## Create the RAI AISystem\n",
    "   "
   ]
  },
  {
   "cell_type": "code",
   "execution_count": null,
   "id": "6b9e0a0a",
   "metadata": {},
   "outputs": [],
   "source": [
    "\n",
    "    configuration = {\"time_complexity\": \"polynomial\"}\n",
    "    ai = AISystem(name=\"oxford_pets_class\", task='classification', meta_database=meta, dataset=dataset, model=model)\n",
    "    ai.initialize(user_config=configuration)\n",
    "\n",
    "    preds = []\n",
    "    net.eval()\n",
    "    print(\"Generating predictions\")\n",
    "    with torch.no_grad():\n",
    "        for i, vals in enumerate(test_loader, 0):\n",
    "            if i % int(len(test_loader) / 20) == 0:\n",
    "                print(str(int(100 * i / len(test_loader))), \"% Done\")\n",
    "            image, label = vals\n",
    "            _, predicted = torch.max(net(image), 1)\n",
    "            preds += predicted.tolist()"
   ]
  },
  {
   "cell_type": "markdown",
   "id": "add98001",
   "metadata": {},
   "source": [
    " ## Compute Metrics based on the predictions\n",
    "  "
   ]
  },
  {
   "cell_type": "code",
   "execution_count": null,
   "id": "27066db8",
   "metadata": {},
   "outputs": [],
   "source": [
    "\n",
    "    ai.compute({\"test\": {\"predict\": preds}}, tag='regnet')"
   ]
  },
  {
   "cell_type": "markdown",
   "id": "c2e248a2",
   "metadata": {},
   "source": [
    "\n",
    " ## View the dashboard"
   ]
  },
  {
   "cell_type": "code",
   "execution_count": null,
   "id": "f7da5de6",
   "metadata": {},
   "outputs": [],
   "source": [
    "    net.eval()\n",
    "    r = RaiRedis(ai)\n",
    "    r.connect()\n",
    "    r.reset_redis()\n",
    "    r.add_measurement()\n",
    "    r.export_metadata()\n",
    "    r.export_visualizations(\"test\", \"test\")\n",
    "\n",
    "\n",
    "if __name__ == '__main__':\n",
    "    main()\n",
    "\n"
   ]
  }
 ],
 "metadata": {
  "kernelspec": {
   "display_name": "Python 3 (ipykernel)",
   "language": "python",
   "name": "python3"
  },
  "language_info": {
   "codemirror_mode": {
    "name": "ipython",
    "version": 3
   },
   "file_extension": ".py",
   "mimetype": "text/x-python",
   "name": "python",
   "nbconvert_exporter": "python",
   "pygments_lexer": "ipython3",
   "version": "3.9.13"
  }
 },
 "nbformat": 4,
 "nbformat_minor": 5
}
