{
 "cells": [
  {
   "cell_type": "markdown",
   "id": "0480da31",
   "metadata": {},
   "source": [
    "# Adult_model_selection.py"
   ]
  },
  {
   "cell_type": "code",
   "execution_count": 1,
   "id": "c9973e67",
   "metadata": {},
   "outputs": [],
   "source": [
    "# Copyright 2022 Cisco Systems, Inc. and its affiliates\n",
    "#\n",
    "# Licensed under the Apache License, Version 2.0 (the \"License\");\n",
    "# you may not use this file except in compliance with the License.\n",
    "# You may obtain a copy of the License at\n",
    "#\n",
    "#      http://www.apache.org/licenses/LICENSE-2.0\n",
    "#\n",
    "# Unless required by applicable law or agreed to in writing, software\n",
    "# distributed under the License is distributed on an \"AS IS\" BASIS,\n",
    "# WITHOUT WARRANTIES OR CONDITIONS OF ANY KIND, either express or implied.\n",
    "# See the License for the specific language governing permissions and\n",
    "# limitations under the License.\n",
    "#\n",
    "# SPDX-License-Identifier: Apache-2.0"
   ]
  },
  {
   "cell_type": "markdown",
   "id": "790c91aa",
   "metadata": {},
   "source": [
    "## Description "
   ]
  },
  {
   "cell_type": "markdown",
   "id": "230511ee",
   "metadata": {},
   "source": [
    "This demo uses the Adults dataset (https://archive.ics.uci.edu/ml/datasets/adult) to show how RAI can be used in model selection"
   ]
  },
  {
   "cell_type": "markdown",
   "id": "84a94e37",
   "metadata": {},
   "source": [
    "## Importing modules"
   ]
  },
  {
   "cell_type": "code",
   "execution_count": 2,
   "id": "2e45e528",
   "metadata": {},
   "outputs": [],
   "source": [
    "import os\n",
    "import sys\n",
    "import inspect\n",
    "import pandas as pd\n",
    "from sklearn.model_selection import train_test_split\n",
    "from sklearn.ensemble import RandomForestClassifier, AdaBoostClassifier\n"
   ]
  },
  {
   "cell_type": "markdown",
   "id": "e3328702",
   "metadata": {},
   "source": [
    "## Importing RAI modules"
   ]
  },
  {
   "cell_type": "code",
   "execution_count": 3,
   "id": "3fa0b608",
   "metadata": {},
   "outputs": [],
   "source": [
    "from RAI.AISystem import AISystem, Model\n",
    "from RAI.dataset import NumpyData, Dataset\n",
    "from RAI.redis import RaiRedis\n",
    "from RAI.utils import df_to_RAI"
   ]
  },
  {
   "cell_type": "markdown",
   "id": "459b5e1e",
   "metadata": {},
   "source": [
    "\n",
    "## Setup path"
   ]
  },
  {
   "cell_type": "code",
   "execution_count": null,
   "id": "9b9b1b72",
   "metadata": {},
   "outputs": [],
   "source": [
    "currentdir = os.path.dirname(os.path.abspath(inspect.getfile(inspect.currentframe())))\n",
    "parentdir = os.path.dirname(currentdir)\n",
    "sys.path.insert(0, parentdir)"
   ]
  },
  {
   "cell_type": "markdown",
   "id": "e63d9c79",
   "metadata": {},
   "source": [
    "## Configuration"
   ]
  },
  {
   "cell_type": "markdown",
   "id": "ff69e174",
   "metadata": {},
   "source": [
    "use_dashboard = True\n",
    "data_path = \"../data/adult/\"\n"
   ]
  },
  {
   "cell_type": "markdown",
   "id": "b53fdc0e",
   "metadata": {},
   "source": [
    "## Get Dataset"
   ]
  },
  {
   "cell_type": "code",
   "execution_count": null,
   "id": "83943cb2",
   "metadata": {},
   "outputs": [],
   "source": [
    "train_data = pd.read_csv(data_path + \"train.csv\", header=0,\n",
    "                         skipinitialspace=True, na_values=\"?\")\n",
    "test_data = pd.read_csv(data_path + \"test.csv\", header=0,\n",
    "                        skipinitialspace=True, na_values=\"?\")\n",
    "all_data = pd.concat([train_data, test_data], ignore_index=True)"
   ]
  },
  {
   "cell_type": "markdown",
   "id": "fcdfad9c",
   "metadata": {},
   "source": [
    "## Convert aggregated data into RAI format"
   ]
  },
  {
   "cell_type": "code",
   "execution_count": null,
   "id": "f1119057",
   "metadata": {},
   "outputs": [],
   "source": [
    "meta, X, y, output = df_to_RAI(all_data, target_column=\"income-per-year\", normalize=\"Scalar\", max_categorical_threshold=5)\n",
    "xTrain, xTest, yTrain, yTest = train_test_split(X, y, random_state=1, stratify=y)"
   ]
  },
  {
   "cell_type": "markdown",
   "id": "0ab5aa64",
   "metadata": {},
   "source": [
    "\n",
    "## Create a model to make predictions"
   ]
  },
  {
   "cell_type": "code",
   "execution_count": null,
   "id": "2f0102ff",
   "metadata": {},
   "outputs": [],
   "source": [
    "reg = RandomForestClassifier(n_estimators=10, criterion='entropy', random_state=0)\n",
    "model = Model(agent=reg, output_features=output, name=\"cisco_income_ai\", predict_fun=reg.predict, predict_prob_fun=reg.predict_proba,\n",
    "              description=\"Income Prediction AI\", model_class=\"Random Forest Classifier\", )\n",
    "configuration = {\"fairness\": {\"priv_group\": {\"race\": {\"privileged\": 1, \"unprivileged\": 0}},\n",
    "                              \"protected_attributes\": [\"race\"], \"positive_label\": 1},\n",
    "                 \"time_complexity\": \"polynomial\"}\n"
   ]
  },
  {
   "cell_type": "markdown",
   "id": "d9f53636",
   "metadata": {},
   "source": [
    "\n",
    "## Setup the dataset"
   ]
  },
  {
   "cell_type": "code",
   "execution_count": null,
   "id": "85a65950",
   "metadata": {},
   "outputs": [],
   "source": [
    "dataset = Dataset({\"train\": NumpyData(xTrain, yTrain, xTrain), \"test\": NumpyData(xTest, yTest, xTest)})\n"
   ]
  },
  {
   "cell_type": "markdown",
   "id": "dc9e8ded",
   "metadata": {},
   "source": [
    "\n",
    "## Initialize RAI "
   ]
  },
  {
   "cell_type": "code",
   "execution_count": null,
   "id": "97a68305",
   "metadata": {},
   "outputs": [],
   "source": [
    "ai = AISystem(name=\"Adult_model_selection\",  task='binary_classification', meta_database=meta, dataset=dataset, model=model)\n",
    "ai.initialize(user_config=configuration)\n"
   ]
  },
  {
   "cell_type": "markdown",
   "id": "2414c29a",
   "metadata": {},
   "source": [
    "\n",
    "## Test and train data"
   ]
  },
  {
   "cell_type": "code",
   "execution_count": null,
   "id": "0eb29afb",
   "metadata": {},
   "outputs": [],
   "source": [
    "reg.fit(xTrain, yTrain)\n",
    "\n",
    "print(\"\\n\\nTESTING PREDICTING METRICS:\")\n",
    "test_preds = reg.predict(xTest)\n",
    "ai.compute({\"test\": {\"predict\": test_preds}}, tag='model1')\n",
    "\n",
    "if use_dashboard:\n",
    "    r = RaiRedis(ai)\n",
    "    r.connect()\n",
    "    r.reset_redis()\n",
    "    r.add_measurement()\n",
    "\n",
    "reg2 = AdaBoostClassifier()\n",
    "reg2.fit(xTrain, yTrain)\n",
    "ai.model.agent = reg2\n",
    "test_preds = reg2.predict(xTest)\n",
    "\n",
    "ai.compute({\"test\": {\"predict\": test_preds}}, tag=\"model2\")\n",
    "v = ai.get_metric_values()\n",
    "v = v[\"test\"]\n",
    "info = ai.get_metric_info()\n",
    "\n",
    "if use_dashboard:\n",
    "    r.add_measurement()\n",
    "    r.export_metadata()\n",
    "    r.export_visualizations(\"test\", \"test\")"
   ]
  }
 ],
 "metadata": {
  "kernelspec": {
   "display_name": "Python 3 (ipykernel)",
   "language": "python",
   "name": "python3"
  },
  "language_info": {
   "codemirror_mode": {
    "name": "ipython",
    "version": 3
   },
   "file_extension": ".py",
   "mimetype": "text/x-python",
   "name": "python",
   "nbconvert_exporter": "python",
   "pygments_lexer": "ipython3",
   "version": "3.9.13"
  }
 },
 "nbformat": 4,
 "nbformat_minor": 5
}
