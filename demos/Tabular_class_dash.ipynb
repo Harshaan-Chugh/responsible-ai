{
 "cells": [
  {
   "cell_type": "markdown",
   "id": "3b6a6ccc",
   "metadata": {},
   "source": [
    "# Tabular_class_dash"
   ]
  },
  {
   "cell_type": "code",
   "execution_count": null,
   "id": "60bbb23e",
   "metadata": {},
   "outputs": [],
   "source": [
    "# Copyright 2022 Cisco Systems, Inc. and its affiliates\n",
    "#\n",
    "# Licensed under the Apache License, Version 2.0 (the \"License\");\n",
    "# you may not use this file except in compliance with the License.\n",
    "# You may obtain a copy of the License at\n",
    "#\n",
    "#      http://www.apache.org/licenses/LICENSE-2.0\n",
    "#\n",
    "# Unless required by applicable law or agreed to in writing, software\n",
    "# distributed under the License is distributed on an \"AS IS\" BASIS,\n",
    "# WITHOUT WARRANTIES OR CONDITIONS OF ANY KIND, either express or implied.\n",
    "# See the License for the specific language governing permissions and\n",
    "# limitations under the License.\n",
    "#\n",
    "# SPDX-License-Identifier: Apache-2.0"
   ]
  },
  {
   "cell_type": "markdown",
   "id": "b03058b7",
   "metadata": {},
   "source": [
    "# Description "
   ]
  },
  {
   "cell_type": "code",
   "execution_count": null,
   "id": "13ff45bc",
   "metadata": {},
   "outputs": [],
   "source": [
    "This demo shows how RAI can be used without the dashboard to calculate and report on the metrics for a machine learning task"
   ]
  },
  {
   "cell_type": "markdown",
   "id": "ee5ed2f4",
   "metadata": {},
   "source": [
    "## Importing modules"
   ]
  },
  {
   "cell_type": "code",
   "execution_count": null,
   "id": "5e174922",
   "metadata": {},
   "outputs": [],
   "source": [
    "import os\n",
    "import sys\n",
    "import inspect\n",
    "import pandas as pd\n",
    "from sklearn.model_selection import train_test_split\n",
    "from sklearn.ensemble import RandomForestClassifier\n",
    "import numpy as np"
   ]
  },
  {
   "cell_type": "markdown",
   "id": "c1b340fa",
   "metadata": {},
   "source": [
    "## Importing RAI modules\n"
   ]
  },
  {
   "cell_type": "code",
   "execution_count": null,
   "id": "66bd51aa",
   "metadata": {},
   "outputs": [],
   "source": [
    "from RAI.AISystem import AISystem, Model\n",
    "from RAI.dataset import NumpyData, Dataset\n",
    "from RAI.redis import RaiRedis\n",
    "from RAI.utils import df_to_RAI"
   ]
  },
  {
   "cell_type": "markdown",
   "id": "18b984c7",
   "metadata": {},
   "source": [
    "## Setup path\n"
   ]
  },
  {
   "cell_type": "code",
   "execution_count": null,
   "id": "a14393b2",
   "metadata": {},
   "outputs": [],
   "source": [
    "current_dir = os.path.dirname(os.path.abspath(inspect.getfile(inspect.currentframe())))\n",
    "parent_dir = os.path.dirname(current_dir)\n",
    "sys.path.insert(0, parent_dir)"
   ]
  },
  {
   "cell_type": "markdown",
   "id": "4ff6d254",
   "metadata": {},
   "source": [
    "## Configuration"
   ]
  },
  {
   "cell_type": "code",
   "execution_count": null,
   "id": "ce15d80d",
   "metadata": {},
   "outputs": [],
   "source": [
    "use_dashboard = True\n",
    "np.random.seed(50)\n",
    "data_path = \"../data/adult/\""
   ]
  },
  {
   "cell_type": "markdown",
   "id": "6f7838c7",
   "metadata": {},
   "source": [
    "## Get Dataset\n"
   ]
  },
  {
   "cell_type": "code",
   "execution_count": null,
   "id": "1a991bff",
   "metadata": {},
   "outputs": [],
   "source": [
    "train_data = pd.read_csv(data_path + \"train.csv\", header=0, skipinitialspace=True, na_values=\"?\")\n",
    "test_data = pd.read_csv(data_path + \"test.csv\", header=0, skipinitialspace=True, na_values=\"?\")\n",
    "all_data = pd.concat([train_data, test_data], ignore_index=True)"
   ]
  },
  {
   "cell_type": "markdown",
   "id": "3226d73c",
   "metadata": {},
   "source": [
    "## Get X and y data, as well as RAI Meta information from the Dataframe"
   ]
  },
  {
   "cell_type": "code",
   "execution_count": null,
   "id": "88141461",
   "metadata": {},
   "outputs": [],
   "source": [
    "rai_meta_information, X, y, rai_output_feature = df_to_RAI(all_data, target_column=\"income-per-year\", normalize=\"Scalar\")"
   ]
  },
  {
   "cell_type": "markdown",
   "id": "e426632f",
   "metadata": {},
   "source": [
    "## Create Data Splits and pass them to RAI"
   ]
  },
  {
   "cell_type": "code",
   "execution_count": null,
   "id": "bd51c73e",
   "metadata": {},
   "outputs": [],
   "source": [
    "xTrain, xTest, yTrain, yTest = train_test_split(X, y, random_state=1, stratify=y)\n",
    "dataset = Dataset({\"train\": NumpyData(xTrain, yTrain), \"test\": NumpyData(xTest, yTest)})"
   ]
  },
  {
   "cell_type": "markdown",
   "id": "085099e9",
   "metadata": {},
   "source": [
    "## Create Model and RAIs representation of it"
   ]
  },
  {
   "cell_type": "code",
   "execution_count": null,
   "id": "07d6e1ec",
   "metadata": {},
   "outputs": [],
   "source": [
    "clf = RandomForestClassifier(n_estimators=4, max_depth=2)\n",
    "model = Model(agent=clf, output_features=rai_output_feature, name=\"cisco_income_ai\", predict_fun=clf.predict,\n",
    "              predict_prob_fun=clf.predict_proba, description=\"Income Prediction AI\", model_class=\"RFC\")"
   ]
  },
  {
   "cell_type": "markdown",
   "id": "1732c639",
   "metadata": {},
   "source": [
    "## Create RAI AISystem to pass all relevant data to RAI\n"
   ]
  },
  {
   "cell_type": "code",
   "execution_count": null,
   "id": "620dc30b",
   "metadata": {},
   "outputs": [],
   "source": [
    "ai = AISystem(name=\"income_classification\",  task='binary_classification', meta_database=rai_meta_information,\n",
    "              dataset=dataset, model=model)\n",
    "configuration = {\"fairness\": {\"priv_group\": {\"race\": {\"privileged\": 1, \"unprivileged\": 0}},\n",
    "                              \"protected_attributes\": [\"race\"], \"positive_label\": 1},\n",
    "                 \"time_complexity\": \"polynomial\"}\n",
    "ai.initialize(user_config=configuration)"
   ]
  },
  {
   "cell_type": "markdown",
   "id": "645bd677",
   "metadata": {},
   "source": [
    "## Train the model, generate predictions\n"
   ]
  },
  {
   "cell_type": "code",
   "execution_count": null,
   "id": "374a1d5a",
   "metadata": {},
   "outputs": [],
   "source": [
    "clf.fit(xTrain, yTrain)\n",
    "test_predictions = clf.predict(xTest)\n",
    "train_predictions = clf.predict(xTrain)"
   ]
  },
  {
   "cell_type": "markdown",
   "id": "4ffcc0ca",
   "metadata": {},
   "source": [
    "## Pass predictions to RAI\n"
   ]
  },
  {
   "cell_type": "code",
   "execution_count": null,
   "id": "ffc1a337",
   "metadata": {},
   "outputs": [],
   "source": [
    "ai.compute({\"test\": {\"predict\": test_predictions}, \"train\": {\"predict\": train_predictions}}, tag='income_preds')\n",
    "ai.display_metric_values()"
   ]
  },
  {
   "cell_type": "markdown",
   "id": "b19223e2",
   "metadata": {},
   "source": [
    "## Connect to the Dashboard\n"
   ]
  },
  {
   "cell_type": "code",
   "execution_count": null,
   "id": "cb4513bb",
   "metadata": {},
   "outputs": [],
   "source": [
    "r = RaiRedis(ai)\n",
    "r.connect()\n",
    "r.reset_redis()\n",
    "r.add_measurement()\n",
    "r.export_metadata()\n",
    "r.export_visualizations(\"test\", \"test\")"
   ]
  }
 ],
 "metadata": {
  "kernelspec": {
   "display_name": "Python 3 (ipykernel)",
   "language": "python",
   "name": "python3"
  },
  "language_info": {
   "codemirror_mode": {
    "name": "ipython",
    "version": 3
   },
   "file_extension": ".py",
   "mimetype": "text/x-python",
   "name": "python",
   "nbconvert_exporter": "python",
   "pygments_lexer": "ipython3",
   "version": "3.9.13"
  }
 },
 "nbformat": 4,
 "nbformat_minor": 5
}
