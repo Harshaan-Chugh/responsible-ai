{
 "cells": [
  {
   "cell_type": "markdown",
   "id": "eff057de",
   "metadata": {},
   "source": [
    "# Tabular_class_console"
   ]
  },
  {
   "cell_type": "code",
   "execution_count": null,
   "id": "e7c96af4",
   "metadata": {},
   "outputs": [],
   "source": [
    "# Copyright 2022 Cisco Systems, Inc. and its affiliates\n",
    "#\n",
    "# Licensed under the Apache License, Version 2.0 (the \"License\");\n",
    "# you may not use this file except in compliance with the License.\n",
    "# You may obtain a copy of the License at\n",
    "#\n",
    "#      http://www.apache.org/licenses/LICENSE-2.0\n",
    "#\n",
    "# Unless required by applicable law or agreed to in writing, software\n",
    "# distributed under the License is distributed on an \"AS IS\" BASIS,\n",
    "# WITHOUT WARRANTIES OR CONDITIONS OF ANY KIND, either express or implied.\n",
    "# See the License for the specific language governing permissions and\n",
    "# limitations under the License.\n",
    "#\n",
    "# SPDX-License-Identifier: Apache-2.0\n"
   ]
  },
  {
   "cell_type": "markdown",
   "id": "f997a349",
   "metadata": {},
   "source": [
    "## Description \n"
   ]
  },
  {
   "cell_type": "markdown",
   "id": "e5110938",
   "metadata": {},
   "source": [
    "This demo shows how RAI can be used without the dashboard to calculate and report on the metrics for a machine learning task\n"
   ]
  },
  {
   "cell_type": "markdown",
   "id": "a0929082",
   "metadata": {},
   "source": [
    "## Importing modules\n"
   ]
  },
  {
   "cell_type": "code",
   "execution_count": null,
   "id": "82365439",
   "metadata": {},
   "outputs": [],
   "source": [
    "import os\n",
    "import sys\n",
    "import inspect\n",
    "import pandas as pd\n",
    "from sklearn.model_selection import train_test_split\n",
    "import numpy as np\n",
    "from sklearn.ensemble import RandomForestClassifier"
   ]
  },
  {
   "cell_type": "markdown",
   "id": "2ec13ad8",
   "metadata": {},
   "source": [
    "## Importing RAI modules"
   ]
  },
  {
   "cell_type": "code",
   "execution_count": null,
   "id": "8c754991",
   "metadata": {},
   "outputs": [],
   "source": [
    "from RAI.AISystem import AISystem, Model\n",
    "from RAI.Analysis import AnalysisManager\n",
    "from RAI.dataset import NumpyData, Dataset\n",
    "from RAI.utils import df_to_RAI"
   ]
  },
  {
   "cell_type": "markdown",
   "id": "5fae448e",
   "metadata": {},
   "source": [
    "## Setup path\n"
   ]
  },
  {
   "cell_type": "code",
   "execution_count": null,
   "id": "43bad6d5",
   "metadata": {},
   "outputs": [],
   "source": [
    "current_dir = os.path.dirname(os.path.abspath(inspect.getfile(inspect.currentframe())))\n",
    "parent_dir = os.path.dirname(current_dir)\n",
    "sys.path.insert(0, parent_dir)"
   ]
  },
  {
   "cell_type": "markdown",
   "id": "70c8a541",
   "metadata": {},
   "source": [
    "## Configuration"
   ]
  },
  {
   "cell_type": "code",
   "execution_count": null,
   "id": "96159258",
   "metadata": {},
   "outputs": [],
   "source": [
    "np.random.seed(50)\n",
    "data_path = \"../data/adult/\""
   ]
  },
  {
   "cell_type": "markdown",
   "id": "2923a5d7",
   "metadata": {},
   "source": [
    "## Get Dataset"
   ]
  },
  {
   "cell_type": "code",
   "execution_count": null,
   "id": "4e9aa5c2",
   "metadata": {},
   "outputs": [],
   "source": [
    "train_data = pd.read_csv(data_path + \"train.csv\", header=0, skipinitialspace=True, na_values=\"?\")\n",
    "test_data = pd.read_csv(data_path + \"test.csv\", header=0, skipinitialspace=True, na_values=\"?\")\n",
    "\n",
    "all_data = pd.concat([train_data, test_data], ignore_index=True)\n"
   ]
  },
  {
   "cell_type": "markdown",
   "id": "5e92eb50",
   "metadata": {},
   "source": [
    "\n",
    "## Get X and y data, as well as RAI Meta information from the Dataframe\n",
    "\n"
   ]
  },
  {
   "cell_type": "code",
   "execution_count": null,
   "id": "60a7e8d1",
   "metadata": {},
   "outputs": [],
   "source": [
    "rai_meta_information, X, y, rai_output_feature = df_to_RAI(all_data, target_column=\"income-per-year\", normalize=\"Scalar\")"
   ]
  },
  {
   "cell_type": "markdown",
   "id": "a249a83f",
   "metadata": {},
   "source": [
    "## Create Data Splits and pass them to RAI\n"
   ]
  },
  {
   "cell_type": "code",
   "execution_count": null,
   "id": "194105cf",
   "metadata": {},
   "outputs": [],
   "source": [
    "xTrain, xTest, yTrain, yTest = train_test_split(X, y, random_state=1, stratify=y)\n",
    "dataset = Dataset({\"train\": NumpyData(xTrain, yTrain), \"test\": NumpyData(xTest, yTest)})"
   ]
  },
  {
   "cell_type": "markdown",
   "id": "8121a7c2",
   "metadata": {},
   "source": [
    "\n",
    "## Create Model and RAIs representation of it\n",
    "\n"
   ]
  },
  {
   "cell_type": "code",
   "execution_count": null,
   "id": "1fdc8b03",
   "metadata": {},
   "outputs": [],
   "source": [
    "clf = RandomForestClassifier(n_estimators=4, max_depth=6)\n",
    "model = Model(agent=clf, output_features=rai_output_feature, name=\"cisco_income_ai\", predict_fun=clf.predict,\n",
    "              predict_prob_fun=clf.predict_proba, description=\"Income Prediction AI\", model_class=\"RFC\")\n"
   ]
  },
  {
   "cell_type": "markdown",
   "id": "8152a7af",
   "metadata": {},
   "source": [
    "## Create RAI AISystem to pass all relevant data to RAI\n"
   ]
  },
  {
   "cell_type": "code",
   "execution_count": null,
   "id": "0161c03b",
   "metadata": {},
   "outputs": [],
   "source": [
    "ai = AISystem(name=\"income_classification\",  task='binary_classification', meta_database=rai_meta_information,\n",
    "              dataset=dataset, model=model)\n",
    "\n",
    "configuration = {\"fairness\": {\"priv_group\": {\"race\": {\"privileged\": 1, \"unprivileged\": 0}},\n",
    "                              \"protected_attributes\": [\"race\"], \"positive_label\": 1},\n",
    "                 \"time_complexity\": \"polynomial\"}\n",
    "ai.initialize(user_config=configuration)"
   ]
  },
  {
   "cell_type": "markdown",
   "id": "36f93d22",
   "metadata": {},
   "source": [
    "## Train the model, generate predictions\n"
   ]
  },
  {
   "cell_type": "code",
   "execution_count": null,
   "id": "7fd9f864",
   "metadata": {},
   "outputs": [],
   "source": [
    "clf.fit(xTrain, yTrain)\n",
    "test_predictions = clf.predict(xTest)"
   ]
  },
  {
   "cell_type": "markdown",
   "id": "30b9c63e",
   "metadata": {},
   "source": [
    "## Pass predictions to RAI\n"
   ]
  },
  {
   "cell_type": "code",
   "execution_count": null,
   "id": "dc9f6040",
   "metadata": {},
   "outputs": [],
   "source": [
    "ai.compute({\"test\": {\"predict\": test_predictions}}, tag='model')"
   ]
  },
  {
   "cell_type": "markdown",
   "id": "6155a72c",
   "metadata": {},
   "source": [
    "## View results computed by RAI\n",
    "\n"
   ]
  },
  {
   "cell_type": "code",
   "execution_count": null,
   "id": "5aa7d81a",
   "metadata": {},
   "outputs": [],
   "source": [
    "ai.display_metric_values(display_detailed=True)\n",
    "\n",
    "analysis = AnalysisManager()\n",
    "result = analysis.run_analysis(ai, \"test\", \"FairnessAnalysis\")\n",
    "print(result[\"FairnessAnalysis\"].to_string())\n"
   ]
  }
 ],
 "metadata": {
  "kernelspec": {
   "display_name": "Python 3 (ipykernel)",
   "language": "python",
   "name": "python3"
  },
  "language_info": {
   "codemirror_mode": {
    "name": "ipython",
    "version": 3
   },
   "file_extension": ".py",
   "mimetype": "text/x-python",
   "name": "python",
   "nbconvert_exporter": "python",
   "pygments_lexer": "ipython3",
   "version": "3.9.13"
  }
 },
 "nbformat": 4,
 "nbformat_minor": 5
}
