{
 "cells": [
  {
   "cell_type": "markdown",
   "id": "aea2a249",
   "metadata": {},
   "source": [
    "# AdultDemoGridSearch\n"
   ]
  },
  {
   "cell_type": "code",
   "execution_count": 1,
   "id": "a7922fd3",
   "metadata": {},
   "outputs": [],
   "source": [
    "# Copyright 2022 Cisco Systems, Inc. and its affiliates\n",
    "#\n",
    "# Licensed under the Apache License, Version 2.0 (the \"License\");\n",
    "# you may not use this file except in compliance with the License.\n",
    "# You may obtain a copy of the License at\n",
    "#\n",
    "#      http://www.apache.org/licenses/LICENSE-2.0\n",
    "#\n",
    "# Unless required by applicable law or agreed to in writing, software\n",
    "# distributed under the License is distributed on an \"AS IS\" BASIS,\n",
    "# WITHOUT WARRANTIES OR CONDITIONS OF ANY KIND, either express or implied.\n",
    "# See the License for the specific language governing permissions and\n",
    "# limitations under the License.\n",
    "#\n",
    "# SPDX-License-Identifier: Apache-2.0"
   ]
  },
  {
   "cell_type": "markdown",
   "id": "ce867c52",
   "metadata": {},
   "source": [
    "## Description"
   ]
  },
  {
   "cell_type": "markdown",
   "id": "f2523ef0",
   "metadata": {},
   "source": [
    "This demo uses the Adults dataset (https://archive.ics.uci.edu/ml/datasets/adult) to show how RAI can be used in model selection."
   ]
  },
  {
   "cell_type": "markdown",
   "id": "a782a42c",
   "metadata": {},
   "source": [
    "## Importing modules"
   ]
  },
  {
   "cell_type": "code",
   "execution_count": 3,
   "id": "3baf2c01",
   "metadata": {},
   "outputs": [],
   "source": [
    "import os\n",
    "import sys\n",
    "import inspect\n",
    "import pandas as pd\n",
    "from sklearn.model_selection import train_test_split\n",
    "from sklearn.ensemble import RandomForestClassifier"
   ]
  },
  {
   "cell_type": "markdown",
   "id": "62f0e100",
   "metadata": {},
   "source": [
    "## Importing RAI modules"
   ]
  },
  {
   "cell_type": "code",
   "execution_count": 4,
   "id": "8719b221",
   "metadata": {},
   "outputs": [],
   "source": [
    "parent = os.path.abspath('.')\n",
    "sys.path.insert(1, parent)\n",
    "from RAI.AISystem import AISystem, Model\n",
    "from RAI.dataset import NumpyData, Dataset\n",
    "from RAI.redis import RaiRedis\n",
    "from RAI.utils import df_to_RAI"
   ]
  },
  {
   "cell_type": "markdown",
   "id": "941296b2",
   "metadata": {},
   "source": [
    "## Configuration"
   ]
  },
  {
   "cell_type": "code",
   "execution_count": 6,
   "id": "4d4c690f",
   "metadata": {},
   "outputs": [],
   "source": [
    "use_dashboard = True\n",
    "data_path = \"./data/adult/\""
   ]
  },
  {
   "cell_type": "markdown",
   "id": "17f9f077",
   "metadata": {},
   "source": [
    "## Setup path"
   ]
  },
  {
   "cell_type": "code",
   "execution_count": null,
   "id": "25027eb1",
   "metadata": {},
   "outputs": [],
   "source": [
    "currentdir = os.path.dirname(os.path.abspath(inspect.getfile(inspect.currentframe())))\n",
    "parentdir = os.path.dirname(currentdir)\n",
    "sys.path.insert(0, parentdir)\n",
    "sys.path.append(os.path.dirname(os.path.dirname(os.path.abspath(__file__))))"
   ]
  },
  {
   "cell_type": "markdown",
   "id": "7f96027a",
   "metadata": {},
   "source": [
    "## loading train and test data"
   ]
  },
  {
   "cell_type": "code",
   "execution_count": null,
   "id": "29634f21",
   "metadata": {},
   "outputs": [],
   "source": [
    "train_data = pd.read_csv(data_path + \"train.csv\", header=0, skipinitialspace=True, na_values=\"?\")\n",
    "test_data = pd.read_csv(data_path + \"test.csv\", header=0, skipinitialspace=True, na_values=\"?\")\n",
    "all_data = pd.concat([train_data, test_data], ignore_index=True)"
   ]
  },
  {
   "cell_type": "markdown",
   "id": "129bfa12",
   "metadata": {},
   "source": [
    "\n",
    "## Preprocess data and split into train and test sets"
   ]
  },
  {
   "cell_type": "code",
   "execution_count": null,
   "id": "f353dbd3",
   "metadata": {},
   "outputs": [],
   "source": [
    "meta, X, y, output = df_to_RAI(all_data, target_column=\"income-per-year\", normalize=\"Scalar\", max_categorical_threshold=5)\n",
    "xTrain, xTest, yTrain, yTest = train_test_split(X, y, random_state=1, stratify=y)"
   ]
  },
  {
   "cell_type": "markdown",
   "id": "2f95f753",
   "metadata": {},
   "source": [
    "## Create and train the base model"
   ]
  },
  {
   "cell_type": "code",
   "execution_count": null,
   "id": "0c33ad76",
   "metadata": {},
   "outputs": [],
   "source": [
    "clf = RandomForestClassifier(n_estimators=10, criterion='entropy', random_state=0, min_samples_leaf=5, max_depth=2)\n",
    "clf.fit(xTrain, yTrain)"
   ]
  },
  {
   "cell_type": "markdown",
   "id": "f415948a",
   "metadata": {},
   "source": [
    "## Initialize the model with the base classifer"
   ]
  },
  {
   "cell_type": "code",
   "execution_count": null,
   "id": "f1fd355a",
   "metadata": {},
   "outputs": [],
   "source": [
    "model = Model(agent=clf, output_features=output, name=\"cisco_income_ai\", predict_fun=clf.predict, predict_prob_fun=clf.predict_proba,\n",
    "            description=\"Income Prediction AI\", model_class=\"Random Forest Classifier\")\n",
    "configuration = {\"fairness\": {\"priv_group\": {\"race\": {\"privileged\": 1, \"unprivileged\": 0}},\n",
    "                            \"protected_attributes\": [\"race\"], \"positive_label\": 1},\n",
    "                \"time_complexity\": \"polynomial\"}"
   ]
  },
  {
   "cell_type": "markdown",
   "id": "2fbb3beb",
   "metadata": {},
   "source": [
    "## Setup the dataset"
   ]
  },
  {
   "cell_type": "code",
   "execution_count": null,
   "id": "53a621fc",
   "metadata": {},
   "outputs": [],
   "source": [
    "dataset = Dataset({\"train\": NumpyData(xTrain, yTrain, xTrain), \"test\": NumpyData(xTest, yTest, xTest)})"
   ]
  },
  {
   "cell_type": "markdown",
   "id": "f157564a",
   "metadata": {},
   "source": [
    "## Initialize RAI"
   ]
  },
  {
   "cell_type": "code",
   "execution_count": null,
   "id": "52ab6b30",
   "metadata": {},
   "outputs": [],
   "source": [
    "ai = AISystem(name=\"AdultDB_GridSearch\", task='binary_classification', meta_database=meta, dataset=dataset, model=model)\n",
    "ai.initialize(user_config=configuration)\n",
    "\n",
    "\n",
    "if use_dashboard:\n",
    "    r = RaiRedis(ai)\n",
    "    r.connect()\n",
    "    r.reset_redis()\n",
    "    "
   ]
  },
  {
   "cell_type": "markdown",
   "id": "ab2901af",
   "metadata": {},
   "source": [
    "##  Function to evaluate each model  "
   ]
  },
  {
   "cell_type": "code",
   "execution_count": null,
   "id": "185668ec",
   "metadata": {},
   "outputs": [],
   "source": [
    "def test_model(mdl, name):\n",
    "    mdl.fit(xTrain, yTrain)\n",
    "    ai.model.agent = mdl\n",
    "    ai.model.predict_fun = clf.predict\n",
    "    ai.model.predict_prob_fun = clf.predict_proba\n",
    "    ai.compute({\"test\": {\"predict\": mdl.predict(xTest)}}, tag=name)\n",
    "\n",
    "    if use_dashboard:\n",
    "        r.add_measurement()\n",
    "        r.export_metadata()\n",
    "\n",
    "\n",
    "def main():\n",
    "   \n",
    "    for n_s in [2, 5, 10, 20]:\n",
    "        for max_depth in [1, 2, 3]:\n",
    "            for criterion in ['entropy', 'gini']:\n",
    "                name = f\"n:{n_s}, d:{max_depth}, {criterion}\"\n",
    "                print(\"grid searching param :\", name)\n",
    "                mdl = RandomForestClassifier(n_estimators=n_s, criterion=criterion, random_state=0, min_samples_leaf=5, max_depth=max_depth)\n",
    "                test_model(mdl, name)\n",
    "\n",
    "    if use_dashboard:\n",
    "        r.export_visualizations(\"test\", \"test\")\n",
    "\n",
    " \n",
    "\n",
    "if __name__ == \"__main__\":\n",
    "    \n",
    "    try:\n",
    "        main()\n",
    "    except KeyboardInterrupt:\n",
    "        print(\"\\nShutting down...\")\n",
    "        if use_dashboard:\n",
    "            r.Disconnect()\n",
    "\n"
   ]
  }
 ],
 "metadata": {
  "kernelspec": {
   "display_name": "Python 3 (ipykernel)",
   "language": "python",
   "name": "python3"
  },
  "language_info": {
   "codemirror_mode": {
    "name": "ipython",
    "version": 3
   },
   "file_extension": ".py",
   "mimetype": "text/x-python",
   "name": "python",
   "nbconvert_exporter": "python",
   "pygments_lexer": "ipython3",
   "version": "3.9.13"
  }
 },
 "nbformat": 4,
 "nbformat_minor": 5
}
