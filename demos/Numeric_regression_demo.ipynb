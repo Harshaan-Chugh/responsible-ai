{
 "cells": [
  {
   "cell_type": "markdown",
   "id": "227b93bc",
   "metadata": {},
   "source": [
    "# Numeric_regression_demo"
   ]
  },
  {
   "cell_type": "code",
   "execution_count": null,
   "id": "652a1f20",
   "metadata": {},
   "outputs": [],
   "source": [
    "# Copyright 2022 Cisco Systems, Inc. and its affiliates\n",
    "#\n",
    "# Licensed under the Apache License, Version 2.0 (the \"License\");\n",
    "# you may not use this file except in compliance with the License.\n",
    "# You may obtain a copy of the License at\n",
    "#\n",
    "#      http://www.apache.org/licenses/LICENSE-2.0\n",
    "#\n",
    "# Unless required by applicable law or agreed to in writing, software\n",
    "# distributed under the License is distributed on an \"AS IS\" BASIS,\n",
    "# WITHOUT WARRANTIES OR CONDITIONS OF ANY KIND, either express or implied.\n",
    "# See the License for the specific language governing permissions and\n",
    "# limitations under the License.\n",
    "#\n",
    "# SPDX-License-Identifier: Apache-2.0\n"
   ]
  },
  {
   "cell_type": "markdown",
   "id": "97785307",
   "metadata": {},
   "source": [
    "## Description "
   ]
  },
  {
   "cell_type": "markdown",
   "id": "880ebfde",
   "metadata": {},
   "source": [
    "This demo uses California housing dataset and shows how RAI can be used for numeric regression tasks during training"
   ]
  },
  {
   "cell_type": "markdown",
   "id": "cab3f0ba",
   "metadata": {},
   "source": [
    "## Importing modules"
   ]
  },
  {
   "cell_type": "code",
   "execution_count": null,
   "id": "6d4080be",
   "metadata": {},
   "outputs": [],
   "source": [
    "import os\n",
    "import sys\n",
    "import inspect\n",
    "import numpy as np\n",
    "from sklearn.datasets import fetch_california_housing\n",
    "from sklearn.model_selection import train_test_split\n",
    "from sklearn.ensemble import RandomForestRegressor"
   ]
  },
  {
   "cell_type": "markdown",
   "id": "6932c1e6",
   "metadata": {},
   "source": [
    "## Importing RAI modules"
   ]
  },
  {
   "cell_type": "code",
   "execution_count": null,
   "id": "d1b0dd59",
   "metadata": {},
   "outputs": [],
   "source": [
    "from RAI.dataset import NumpyData, Dataset\n",
    "from RAI.AISystem import AISystem, Model\n",
    "from RAI.redis import RaiRedis\n",
    "from RAI.utils import df_to_RAI\n"
   ]
  },
  {
   "cell_type": "markdown",
   "id": "0e92ff56",
   "metadata": {},
   "source": [
    "## Setup path\n"
   ]
  },
  {
   "cell_type": "code",
   "execution_count": null,
   "id": "2cfde6d8",
   "metadata": {},
   "outputs": [],
   "source": [
    "currentdir = os.path.dirname(os.path.abspath(inspect.getfile(inspect.currentframe())))\n",
    "parentdir = os.path.dirname(currentdir)\n",
    "sys.path.insert(0, parentdir)\n"
   ]
  },
  {
   "cell_type": "markdown",
   "id": "d19ff38b",
   "metadata": {},
   "source": [
    "# Configuration\n"
   ]
  },
  {
   "cell_type": "code",
   "execution_count": null,
   "id": "9f429d40",
   "metadata": {},
   "outputs": [],
   "source": [
    "use_dashboard = True\n",
    "np.random.seed(21)\n",
    "result = fetch_california_housing(as_frame=True)\n",
    "target = result.target\n",
    "df = result.data\n",
    "df[target.name] = target"
   ]
  },
  {
   "cell_type": "markdown",
   "id": "009247ad",
   "metadata": {},
   "source": [
    "\n",
    "## Preprocess data and split into train and test sets\n",
    "\n"
   ]
  },
  {
   "cell_type": "code",
   "execution_count": null,
   "id": "f5f2c8c5",
   "metadata": {},
   "outputs": [],
   "source": [
    "meta, X, y, output = df_to_RAI(df, target_column=\"MedHouseVal\")\n",
    "xTrain, xTest, yTrain, yTest = train_test_split(X, y, random_state=1)\n"
   ]
  },
  {
   "cell_type": "markdown",
   "id": "9982e726",
   "metadata": {},
   "source": [
    "## Create and train the base model\n"
   ]
  },
  {
   "cell_type": "code",
   "execution_count": null,
   "id": "81e25e4a",
   "metadata": {},
   "outputs": [],
   "source": [
    "reg = RandomForestRegressor(n_estimators=15, max_depth=20)\n",
    "model = Model(agent=reg, output_features=output, name=\"cisco_income_ai\", predict_fun=reg.predict,\n",
    "              description=\"Income Prediction AI\", model_class=\"Random Forest Regressor\", )\n",
    "configuration = {\"time_complexity\": \"polynomial\"}"
   ]
  },
  {
   "cell_type": "markdown",
   "id": "f25bc076",
   "metadata": {},
   "source": [
    "## Setup the dataset\n",
    "\n"
   ]
  },
  {
   "cell_type": "code",
   "execution_count": null,
   "id": "9a8c06f3",
   "metadata": {},
   "outputs": [],
   "source": [
    "dataset = Dataset({\"train\": NumpyData(xTrain, yTrain), \"test\": NumpyData(xTest, yTest)})"
   ]
  },
  {
   "cell_type": "markdown",
   "id": "da610654",
   "metadata": {},
   "source": [
    "## Initialize RAI \n"
   ]
  },
  {
   "cell_type": "code",
   "execution_count": null,
   "id": "0ee2192a",
   "metadata": {},
   "outputs": [],
   "source": [
    "ai = AISystem(name=\"tabular_regression\",  task='regression', meta_database=meta, dataset=dataset, model=model)\n",
    "ai.initialize(user_config=configuration)\n",
    "\n",
    "\n",
    "reg.fit(xTrain, yTrain)\n",
    "predictions = reg.predict(xTest)\n",
    "ai.compute({\"test\": {\"predict\": predictions}}, tag=\"regression\")\n",
    "\n",
    "if use_dashboard:\n",
    "    r = RaiRedis(ai)\n",
    "    r.connect()\n",
    "    r.reset_redis()\n",
    "    r.add_measurement()\n",
    "    r.export_metadata()\n",
    "    r.export_visualizations(\"test\", \"test\")\n",
    "\n",
    "ai.display_metric_values(\"test\")\n"
   ]
  }
 ],
 "metadata": {
  "kernelspec": {
   "display_name": "Python 3 (ipykernel)",
   "language": "python",
   "name": "python3"
  },
  "language_info": {
   "codemirror_mode": {
    "name": "ipython",
    "version": 3
   },
   "file_extension": ".py",
   "mimetype": "text/x-python",
   "name": "python",
   "nbconvert_exporter": "python",
   "pygments_lexer": "ipython3",
   "version": "3.9.13"
  }
 },
 "nbformat": 4,
 "nbformat_minor": 5
}
