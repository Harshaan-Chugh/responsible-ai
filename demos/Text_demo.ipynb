{
 "cells": [
  {
   "cell_type": "markdown",
   "id": "31499f9b",
   "metadata": {},
   "source": [
    "# Text_demo"
   ]
  },
  {
   "cell_type": "code",
   "execution_count": null,
   "id": "74d55b53",
   "metadata": {},
   "outputs": [],
   "source": [
    "# Copyright 2022 Cisco Systems, Inc. and its affiliates\n",
    "#\n",
    "# Licensed under the Apache License, Version 2.0 (the \"License\");\n",
    "# you may not use this file except in compliance with the License.\n",
    "# You may obtain a copy of the License at\n",
    "#\n",
    "#      http://www.apache.org/licenses/LICENSE-2.0\n",
    "#\n",
    "# Unless required by applicable law or agreed to in writing, software\n",
    "# distributed under the License is distributed on an \"AS IS\" BASIS,\n",
    "# WITHOUT WARRANTIES OR CONDITIONS OF ANY KIND, either express or implied.\n",
    "# See the License for the specific language governing permissions and\n",
    "# limitations under the License.\n",
    "#\n",
    "# SPDX-License-Identifier: Apache-2.0"
   ]
  },
  {
   "cell_type": "markdown",
   "id": "02e95b87",
   "metadata": {},
   "source": [
    "## Description "
   ]
  },
  {
   "cell_type": "markdown",
   "id": "5b4bcbfe",
   "metadata": {},
   "source": [
    "This demos show how RAI and its dashboard can be used for evaluating the natural language modeling tasks"
   ]
  },
  {
   "cell_type": "markdown",
   "id": "203a3655",
   "metadata": {},
   "source": [
    "## Importing modules"
   ]
  },
  {
   "cell_type": "code",
   "execution_count": null,
   "id": "2490041f",
   "metadata": {},
   "outputs": [],
   "source": [
    "import os\n",
    "import sys\n",
    "import inspect\n",
    "import nltk\n",
    "from nltk.sentiment import SentimentIntensityAnalyzer\n",
    "from sklearn.model_selection import train_test_split\n",
    "from datasets import load_dataset\n",
    "import random\n",
    "import numpy as np\n",
    "import pandas as pd"
   ]
  },
  {
   "cell_type": "markdown",
   "id": "a50af1a4",
   "metadata": {},
   "source": [
    "# Importing RAI modules"
   ]
  },
  {
   "cell_type": "code",
   "execution_count": null,
   "id": "d80e7db9",
   "metadata": {},
   "outputs": [],
   "source": [
    "from RAI.AISystem import AISystem, Model\n",
    "from RAI.redis import RaiRedis\n",
    "from RAI.dataset import Dataset, Feature, NumpyData\n",
    "from RAI.utils import df_to_RAI"
   ]
  },
  {
   "cell_type": "markdown",
   "id": "2e24a65a",
   "metadata": {},
   "source": [
    "## Setup path\n"
   ]
  },
  {
   "cell_type": "code",
   "execution_count": null,
   "id": "8ac19f4a",
   "metadata": {},
   "outputs": [],
   "source": [
    "currentdir = os.path.dirname(os.path.abspath(inspect.getfile(inspect.currentframe())))\n",
    "parentdir = os.path.dirname(currentdir)\n",
    "sys.path.insert(0, parentdir)"
   ]
  },
  {
   "cell_type": "markdown",
   "id": "fdd0badb",
   "metadata": {},
   "source": [
    "## Get data "
   ]
  },
  {
   "cell_type": "code",
   "execution_count": null,
   "id": "6da4b4bc",
   "metadata": {},
   "outputs": [],
   "source": [
    "def main():\n",
    "    random.seed(0)\n",
    "    np.random.seed(10)\n",
    "\n",
    "    # Get data\n",
    "    nltk.download(\"vader_lexicon\")\n",
    "    dataset = pd.DataFrame(load_dataset(\"rotten_tomatoes\", split=\"train+test\"))\n",
    "    dataset['label'] = dataset['label'].astype('int64')\n",
    "    dataset['text'] = dataset['text'].replace(-1, 0)\n",
    "    new_dataset = dataset\n",
    "\n",
    "    sentiment_model = SentimentIntensityAnalyzer()\n",
    "\n",
    "    def score_text(input_text: list[str]) -> list[int]:\n",
    "        result = []\n",
    "        for val in input_text:\n",
    "            result.append(0 if sentiment_model.polarity_scores(val[0])[\"compound\"] <= 0 else 1)\n",
    "        return result\n"
   ]
  },
  {
   "cell_type": "markdown",
   "id": "f0c4e225",
   "metadata": {},
   "source": [
    "## Pass data to RAI\n",
    "    "
   ]
  },
  {
   "cell_type": "code",
   "execution_count": null,
   "id": "64950968",
   "metadata": {},
   "outputs": [],
   "source": [
    "\n",
    "    meta, X, y, _ = df_to_RAI(new_dataset, target_column=\"label\", text_columns='text')\n",
    "    xTrain, xTest, yTrain, yTest = train_test_split(X, y, random_state=1)\n",
    "    dataset = Dataset({\"train\": NumpyData(xTrain, yTrain, xTrain), \"test\": NumpyData(xTest, yTest, xTest)})"
   ]
  },
  {
   "cell_type": "markdown",
   "id": "300dff80",
   "metadata": {},
   "source": [
    " ## Define model within RAI\n",
    "   "
   ]
  },
  {
   "cell_type": "code",
   "execution_count": null,
   "id": "4e373c55",
   "metadata": {},
   "outputs": [],
   "source": [
    "\n",
    "    output_feature = Feature(name=\"Sentiment\", dtype=\"numeric\", description=\"Review Sentiment Rating\",\n",
    "                             categorical=True, values={0: \"Negative\", 1: \"Positive\"})\n",
    "    model = Model(agent=sentiment_model, output_features=output_feature, name=\"T5 small\", predict_fun=score_text,\n",
    "                  description=\"SentimentAnalysis\", model_class=\"T5\")"
   ]
  },
  {
   "cell_type": "markdown",
   "id": "6b5ede23",
   "metadata": {},
   "source": [
    " ## Create the AI System\n",
    "  "
   ]
  },
  {
   "cell_type": "code",
   "execution_count": null,
   "id": "5a559c28",
   "metadata": {},
   "outputs": [],
   "source": [
    "\n",
    "    ai = AISystem(name=\"Sentiment_Analysis_1\", task='binary_classification', meta_database=meta, dataset=dataset, model=model)\n",
    "    ai.initialize()\n",
    "\n",
    "    preds = []\n",
    "    for val in xTest:\n",
    "        score = score_text([val])[0]\n",
    "        preds.append(score)\n",
    "\n",
    "    ai.compute({\"test\": {\"predict\": preds}}, tag='initial_preds')"
   ]
  },
  {
   "cell_type": "markdown",
   "id": "950fab72",
   "metadata": {},
   "source": [
    "## Connect to the Dashboard"
   ]
  },
  {
   "cell_type": "code",
   "execution_count": null,
   "id": "f1c4d5eb",
   "metadata": {},
   "outputs": [],
   "source": [
    "r = RaiRedis(ai)\n",
    "    r.connect()\n",
    "    r.reset_redis()\n",
    "    r.add_measurement()\n",
    "    r.export_metadata()\n",
    "    r.export_visualizations(\"test\", \"test\")\n",
    "    ai.display_metric_values()\n",
    "\n",
    "if __name__ == '__main__':\n",
    "    main()"
   ]
  }
 ],
 "metadata": {
  "kernelspec": {
   "display_name": "Python 3 (ipykernel)",
   "language": "python",
   "name": "python3"
  },
  "language_info": {
   "codemirror_mode": {
    "name": "ipython",
    "version": 3
   },
   "file_extension": ".py",
   "mimetype": "text/x-python",
   "name": "python",
   "nbconvert_exporter": "python",
   "pygments_lexer": "ipython3",
   "version": "3.9.13"
  }
 },
 "nbformat": 4,
 "nbformat_minor": 5
}
