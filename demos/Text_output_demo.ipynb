{
 "cells": [
  {
   "cell_type": "markdown",
   "id": "6ce34c87",
   "metadata": {},
   "source": [
    "# Text_output_demo"
   ]
  },
  {
   "cell_type": "code",
   "execution_count": 1,
   "id": "9b3bf262",
   "metadata": {},
   "outputs": [],
   "source": [
    "# Copyright 2022 Cisco Systems, Inc. and its affiliates\n",
    "#\n",
    "# Licensed under the Apache License, Version 2.0 (the \"License\");\n",
    "# you may not use this file except in compliance with the License.\n",
    "# You may obtain a copy of the License at\n",
    "#\n",
    "#      http://www.apache.org/licenses/LICENSE-2.0\n",
    "#\n",
    "# Unless required by applicable law or agreed to in writing, software\n",
    "# distributed under the License is distributed on an \"AS IS\" BASIS,\n",
    "# WITHOUT WARRANTIES OR CONDITIONS OF ANY KIND, either express or implied.\n",
    "# See the License for the specific language governing permissions and\n",
    "# limitations under the License.\n",
    "#\n",
    "# SPDX-License-Identifier: Apache-2.0\n"
   ]
  },
  {
   "cell_type": "markdown",
   "id": "6e4c560e",
   "metadata": {},
   "source": [
    "## Description "
   ]
  },
  {
   "cell_type": "markdown",
   "id": "e536e957",
   "metadata": {},
   "source": [
    "This demos show how RAI and its dashboard can be used for evaluating the natural language modeling tasks"
   ]
  },
  {
   "cell_type": "markdown",
   "id": "a426d2e6",
   "metadata": {},
   "source": [
    "## Importing modules"
   ]
  },
  {
   "cell_type": "code",
   "execution_count": null,
   "id": "e1d099f3",
   "metadata": {},
   "outputs": [],
   "source": [
    "# This code requires the sentencepiece package\n",
    "import os\n",
    "import sys\n",
    "import inspect\n",
    "import pandas as pd\n",
    "from sklearn.model_selection import train_test_split\n",
    "import random\n",
    "import numpy as np\n",
    "from datasets import load_dataset\n",
    "from transformers import T5Tokenizer, T5ForConditionalGeneration"
   ]
  },
  {
   "cell_type": "markdown",
   "id": "d3bc2e0a",
   "metadata": {},
   "source": [
    "## Importing RAI modules"
   ]
  },
  {
   "cell_type": "code",
   "execution_count": null,
   "id": "23927a60",
   "metadata": {},
   "outputs": [],
   "source": [
    "from RAI.AISystem import AISystem, Model\n",
    "from RAI.redis import RaiRedis\n",
    "from RAI.dataset import Dataset, NumpyData\n",
    "from RAI.utils import df_to_RAI"
   ]
  },
  {
   "cell_type": "markdown",
   "id": "ce108276",
   "metadata": {},
   "source": [
    "## Setup path"
   ]
  },
  {
   "cell_type": "code",
   "execution_count": null,
   "id": "ec5c5672",
   "metadata": {},
   "outputs": [],
   "source": [
    "current_dir = os.path.dirname(os.path.abspath(inspect.getfile(inspect.currentframe())))\n",
    "parent_dir = os.path.dirname(current_dir)\n",
    "sys.path.insert(0, parent_dir)"
   ]
  },
  {
   "cell_type": "markdown",
   "id": "2c2ad2ee",
   "metadata": {},
   "source": [
    "## Get Model"
   ]
  },
  {
   "cell_type": "code",
   "execution_count": null,
   "id": "9f8954e8",
   "metadata": {},
   "outputs": [],
   "source": [
    "t5 = T5ForConditionalGeneration.from_pretrained('t5-small')\n",
    "tokenizer = T5Tokenizer.from_pretrained('t5-small')"
   ]
  },
  {
   "cell_type": "markdown",
   "id": "15daf964",
   "metadata": {},
   "source": [
    "## Function to produce summarized text"
   ]
  },
  {
   "cell_type": "code",
   "execution_count": null,
   "id": "20b53ab8",
   "metadata": {},
   "outputs": [],
   "source": [
    "def summarize(text):\n",
    "    while isinstance(text, list) or isinstance(text, np.ndarray):\n",
    "        text = text[0]\n",
    "    text = \"summarize: \" + text\n",
    "    input_ids = tokenizer.encode(text, return_tensors='pt', max_length=512)\n",
    "    summary_ids = t5.generate(input_ids)\n",
    "    return [tokenizer.decode(summary_ids[0])]\n",
    "\n",
    "#Setting the seed\n",
    "def main():\n",
    "    random.seed(0)\n",
    "    np.random.seed(10)"
   ]
  },
  {
   "cell_type": "markdown",
   "id": "32304c02",
   "metadata": {},
   "source": [
    "\n",
    "   ## Get dataset"
   ]
  },
  {
   "cell_type": "code",
   "execution_count": null,
   "id": "e134dcbf",
   "metadata": {},
   "outputs": [],
   "source": [
    "\n",
    "   \n",
    "    dataset = load_dataset(\"gigaword\", split=\"test\")\n",
    "    df = pd.DataFrame(dataset)"
   ]
  },
  {
   "cell_type": "markdown",
   "id": "e43f2458",
   "metadata": {},
   "source": [
    " ## Convert dataset to RAI"
   ]
  },
  {
   "cell_type": "code",
   "execution_count": null,
   "id": "06fd1922",
   "metadata": {},
   "outputs": [],
   "source": [
    " meta, X, y, output = df_to_RAI(df, target_column=\"summary\", text_columns=['document', 'summary'])\n",
    "    x_train, x_test, y_train, y_test = train_test_split(X, y, random_state=1)\n",
    "    x_test = x_test[:10]\n",
    "    y_test = y_test[:10]\n"
   ]
  },
  {
   "cell_type": "markdown",
   "id": "f7f0225f",
   "metadata": {},
   "source": [
    "## Produce Summarizations"
   ]
  },
  {
   "cell_type": "code",
   "execution_count": null,
   "id": "36699e46",
   "metadata": {},
   "outputs": [],
   "source": [
    "  summaries = []\n",
    "    for i, val in enumerate(x_test):\n",
    "        summary = summarize(val[0])[0]\n",
    "        summaries.append(summary)\n"
   ]
  },
  {
   "cell_type": "markdown",
   "id": "fed42294",
   "metadata": {},
   "source": [
    " # Create RAIs representation of the model"
   ]
  },
  {
   "cell_type": "code",
   "execution_count": null,
   "id": "86293d75",
   "metadata": {},
   "outputs": [],
   "source": [
    "\n",
    "    model = Model(agent=t5, output_features=output, name=\"t5\", generate_text_fun=summarize,\n",
    "                  description=\"Text Summarizer\", model_class=\"t5\")"
   ]
  },
  {
   "cell_type": "markdown",
   "id": "05da196c",
   "metadata": {},
   "source": [
    "  # Create RAIs representation of the data splits"
   ]
  },
  {
   "cell_type": "code",
   "execution_count": null,
   "id": "825117dc",
   "metadata": {},
   "outputs": [],
   "source": [
    "\n",
    "    dataset = Dataset({\"train\": NumpyData(x_train, y_train), \"test\": NumpyData(x_test, y_test)})"
   ]
  },
  {
   "cell_type": "markdown",
   "id": "4e0e4e19",
   "metadata": {},
   "source": [
    "## Create a RAI AISystem to calculate metrics and run analysis"
   ]
  },
  {
   "cell_type": "code",
   "execution_count": null,
   "id": "3e8358af",
   "metadata": {},
   "outputs": [],
   "source": [
    "\n",
    "    ai = AISystem(name=\"Text_Summarizer_t5\", task='generate', meta_database=meta, dataset=dataset, model=model)\n",
    "    configuration = {\"time_complexity\": \"polynomial\"}\n",
    "    ai.initialize(user_config=configuration)"
   ]
  },
  {
   "cell_type": "markdown",
   "id": "04ff61f5",
   "metadata": {},
   "source": [
    " ## Compute metrics on the summarization\n"
   ]
  },
  {
   "cell_type": "code",
   "execution_count": null,
   "id": "3049dcda",
   "metadata": {},
   "outputs": [],
   "source": [
    "\n",
    "    ai.compute({\"test\": {\"generate_text\": summaries}}, tag='t5_small')\n",
    "\n",
    "    r = RaiRedis(ai)\n",
    "    r.connect()\n",
    "    r.reset_redis()\n",
    "    r.add_measurement()\n",
    "    r.export_metadata()\n",
    "    r.export_visualizations(\"test\", \"test\")\n",
    "\n",
    "\n",
    "if __name__ == '__main__':\n",
    "    main()"
   ]
  }
 ],
 "metadata": {
  "kernelspec": {
   "display_name": "Python 3 (ipykernel)",
   "language": "python",
   "name": "python3"
  },
  "language_info": {
   "codemirror_mode": {
    "name": "ipython",
    "version": 3
   },
   "file_extension": ".py",
   "mimetype": "text/x-python",
   "name": "python",
   "nbconvert_exporter": "python",
   "pygments_lexer": "ipython3",
   "version": "3.9.13"
  }
 },
 "nbformat": 4,
 "nbformat_minor": 5
}
