{
 "cells": [
  {
   "cell_type": "markdown",
   "id": "de2fcee1",
   "metadata": {},
   "source": [
    "# AdultDemoTwoModel"
   ]
  },
  {
   "cell_type": "code",
   "execution_count": 1,
   "id": "3046d993",
   "metadata": {},
   "outputs": [],
   "source": [
    "# Copyright 2022 Cisco Systems, Inc. and its affiliates\n",
    "#\n",
    "# Licensed under the Apache License, Version 2.0 (the \"License\");\n",
    "# you may not use this file except in compliance with the License.\n",
    "# You may obtain a copy of the License at\n",
    "#\n",
    "#      http://www.apache.org/licenses/LICENSE-2.0\n",
    "#\n",
    "# Unless required by applicable law or agreed to in writing, software\n",
    "# distributed under the License is distributed on an \"AS IS\" BASIS,\n",
    "# WITHOUT WARRANTIES OR CONDITIONS OF ANY KIND, either express or implied.\n",
    "# See the License for the specific language governing permissions and\n",
    "# limitations under the License.\n",
    "#\n",
    "# SPDX-License-Identifier: Apache-2.0"
   ]
  },
  {
   "cell_type": "markdown",
   "id": "058f4872",
   "metadata": {},
   "source": [
    "## Description"
   ]
  },
  {
   "cell_type": "markdown",
   "id": "5e7279db",
   "metadata": {},
   "source": [
    "This demo uses the Adults dataset (https://archive.ics.uci.edu/ml/datasets/adult) to show how RAI can be used in model selection"
   ]
  },
  {
   "cell_type": "markdown",
   "id": "c68009c0",
   "metadata": {},
   "source": [
    "## Importing modules"
   ]
  },
  {
   "cell_type": "code",
   "execution_count": 3,
   "id": "4e85ebfa",
   "metadata": {},
   "outputs": [],
   "source": [
    "import os\n",
    "import sys\n",
    "import inspect\n",
    "import numpy as np\n",
    "import pandas as pd\n",
    "from sklearn.ensemble import RandomForestClassifier\n",
    "from sklearn.model_selection import train_test_split"
   ]
  },
  {
   "cell_type": "markdown",
   "id": "43f82630",
   "metadata": {},
   "source": [
    "\n",
    "## Importing RAI modules"
   ]
  },
  {
   "cell_type": "code",
   "execution_count": 4,
   "id": "d3f33e63",
   "metadata": {},
   "outputs": [],
   "source": [
    "from RAI.AISystem import AISystem, Model\n",
    "from RAI.dataset import NumpyData, Dataset\n",
    "from RAI.redis import RaiRedis\n",
    "from RAI.utils import df_to_RAI"
   ]
  },
  {
   "cell_type": "markdown",
   "id": "71d4ea82",
   "metadata": {},
   "source": [
    "## Setup path"
   ]
  },
  {
   "cell_type": "code",
   "execution_count": 5,
   "id": "4f8e5a7b",
   "metadata": {},
   "outputs": [],
   "source": [
    "currentdir = os.path.dirname(os.path.abspath(inspect.getfile(inspect.currentframe())))\n",
    "parentdir = os.path.dirname(currentdir)\n",
    "sys.path.insert(0, parentdir)\n"
   ]
  },
  {
   "cell_type": "markdown",
   "id": "05f653b1",
   "metadata": {},
   "source": [
    "## Configuration"
   ]
  },
  {
   "cell_type": "code",
   "execution_count": null,
   "id": "a1a97471",
   "metadata": {},
   "outputs": [],
   "source": [
    "use_dashboard = True\n",
    "np.random.seed(21)\n",
    "data_path = \"data/adult/\""
   ]
  },
  {
   "cell_type": "markdown",
   "id": "a399cc8b",
   "metadata": {},
   "source": [
    "\n",
    "## Loading train and test data"
   ]
  },
  {
   "cell_type": "code",
   "execution_count": null,
   "id": "3cc0912f",
   "metadata": {},
   "outputs": [],
   "source": [
    "train_data = pd.read_csv(data_path + \"train.csv\", header=0,\n",
    "                         skipinitialspace=True, na_values=\"?\")\n",
    "test_data = pd.read_csv(data_path + \"test.csv\", header=0,\n",
    "                        skipinitialspace=True, na_values=\"?\")\n",
    "all_data = pd.concat([train_data, test_data], ignore_index=True)\n",
    "idx = all_data['race'] != 'White'\n",
    "all_data['race'][idx] = 'Black'\n",
    "target_column = \"income-per-year\""
   ]
  },
  {
   "cell_type": "markdown",
   "id": "8d8973f0",
   "metadata": {},
   "source": [
    "\n",
    "## Convert aggregated data into RAI format"
   ]
  },
  {
   "cell_type": "code",
   "execution_count": null,
   "id": "b08e71c6",
   "metadata": {},
   "outputs": [],
   "source": [
    "meta, X, y, output = df_to_RAI(all_data, target_column=target_column, normalize=\"Scalar\", max_categorical_threshold=5)\n",
    "xTrain, xTest, yTrain, yTest = train_test_split(X, y, random_state=1, stratify=y)"
   ]
  },
  {
   "cell_type": "markdown",
   "id": "a15eb068",
   "metadata": {},
   "source": [
    "## Create a model to make predictions"
   ]
  },
  {
   "cell_type": "code",
   "execution_count": null,
   "id": "dabd5017",
   "metadata": {},
   "outputs": [],
   "source": [
    "model = Model(agent=clf, output_features=output, name=\"cisco_income_ai\", predict_fun=clf.predict, predict_prob_fun=clf.predict_proba,\n",
    "              description=\"Income Prediction\", model_class=\"Random Forest Classifier\")\n",
    "configuration = {\"fairness\": {\"priv_group\": {\"race\": {\"privileged\": 1, \"unprivileged\": 0}},\n",
    "                              \"protected_attributes\": [\"race\"], \"positive_label\": 1},\n",
    "                 \"time_complexity\": \"polynomial\"}"
   ]
  },
  {
   "cell_type": "markdown",
   "id": "69e45ff0",
   "metadata": {},
   "source": [
    "\n",
    "## Setup the dataset"
   ]
  },
  {
   "cell_type": "code",
   "execution_count": null,
   "id": "f43dcf40",
   "metadata": {},
   "outputs": [],
   "source": [
    "dataset = Dataset({\"train\": NumpyData(xTrain, yTrain), \"test\": NumpyData(xTest, yTest)})"
   ]
  },
  {
   "cell_type": "markdown",
   "id": "04837bd4",
   "metadata": {},
   "source": [
    "## Initialize RAI "
   ]
  },
  {
   "cell_type": "code",
   "execution_count": null,
   "id": "ae7b8eb0",
   "metadata": {},
   "outputs": [],
   "source": [
    "ai = AISystem(\"AdultDB_two_model\", task='binary_classification', meta_database=meta, dataset=dataset, model=model)\n",
    "ai.initialize(user_config=configuration)"
   ]
  },
  {
   "cell_type": "markdown",
   "id": "40ce2084",
   "metadata": {},
   "source": [
    "## Create and train the base model"
   ]
  },
  {
   "cell_type": "code",
   "execution_count": null,
   "id": "e8f44c28",
   "metadata": {},
   "outputs": [],
   "source": [
    "clf = RandomForestClassifier(n_estimators=10, criterion='entropy', random_state=0, min_samples_leaf=5, max_depth=2)\n",
    "clf.fit(xTrain, yTrain)\n",
    "predictions = clf.predict(xTest)\n",
    "predictions_train = clf.predict(xTrain)\n",
    "ai.compute({\"test\": {\"predict\": predictions}, \"train\": {\"predict\": predictions_train}}, tag=\"Random Forest 5 Estimator\")\n",
    "\n",
    "if use_dashboard:\n",
    "    r = RaiRedis(ai)\n",
    "    r.connect()\n",
    "    r.reset_redis()\n",
    "    r.add_measurement()\n",
    "    r.export_metadata()\n",
    "\n",
    "mdl = RandomForestClassifier(n_estimators=10, min_samples_leaf=20, max_depth=2)\n",
    "mdl.fit(xTrain, yTrain)\n",
    "predictions = mdl.predict(xTest)\n",
    "predictions_train = mdl.predict(xTrain)\n",
    "ai.compute({\"test\": {\"predict\": predictions}, \"train\": {\"predict\": predictions_train}}, tag=\"Random Forest 10 Estimator\")\n",
    "\n",
    "if use_dashboard:\n",
    "    r.add_measurement()\n",
    "    r.export_metadata()\n",
    "    r.export_visualizations(\"test\", \"test\")\n"
   ]
  },
  {
   "cell_type": "code",
   "execution_count": null,
   "id": "a6fa546b",
   "metadata": {},
   "outputs": [],
   "source": []
  }
 ],
 "metadata": {
  "kernelspec": {
   "display_name": "Python 3 (ipykernel)",
   "language": "python",
   "name": "python3"
  },
  "language_info": {
   "codemirror_mode": {
    "name": "ipython",
    "version": 3
   },
   "file_extension": ".py",
   "mimetype": "text/x-python",
   "name": "python",
   "nbconvert_exporter": "python",
   "pygments_lexer": "ipython3",
   "version": "3.9.13"
  }
 },
 "nbformat": 4,
 "nbformat_minor": 5
}
