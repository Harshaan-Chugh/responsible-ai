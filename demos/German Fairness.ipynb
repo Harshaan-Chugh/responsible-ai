{
 "cells": [
  {
   "cell_type": "code",
   "execution_count": 9,
   "id": "a9510668",
   "metadata": {
    "scrolled": true
   },
   "outputs": [],
   "source": [
    "from demo_helper_code.demo_helper_functions import *"
   ]
  },
  {
   "cell_type": "markdown",
   "id": "78a54250",
   "metadata": {},
   "source": [
    "\n",
    "# German Credit Dataset:\n",
    "    Dataset for a bank to predict whether or not someone is a good or bad credit risk for a loan. \n",
    "    \n",
    "### Contains sensitive feature: AGE\n",
    "\n",
    "### Input Features:\n",
    "        Bank Account status, Duration of bank account, total credit history, loan purpose, total credit amount,\n",
    "        savings account size, Age, Installment plants, Housing, Current Bank credits, Job skill level type,\n",
    "        Number of liable people, has telephone, is foreign worker\n",
    "\n",
    "### Output:\n",
    "        0 (Bad), 1 (Good)"
   ]
  },
  {
   "cell_type": "code",
   "execution_count": 10,
   "id": "3b59a5e2",
   "metadata": {},
   "outputs": [],
   "source": [
    "# Get German Credit Database\n",
    "dataset_metadata, X, y, xTrain, xTest, yTrain, yTest = get_german_dataset()\n",
    "\n",
    "# Represent the database in RAIs format.\n",
    "rai_MetaDatabase, rai_fairness_config = get_rai_metadatabase(dataset_metadata)\n",
    "rai_dataset = get_rai_dataset(xTrain, xTest, yTrain, yTest)"
   ]
  },
  {
   "cell_type": "code",
   "execution_count": 11,
   "id": "5945a8b0",
   "metadata": {
    "scrolled": true
   },
   "outputs": [
    {
     "name": "stdout",
     "output_type": "stream",
     "text": [
      "metric group : metadata was created\n",
      "metric group : performance_cl was created\n",
      "metric group : summary_stats was created\n",
      "metric group : stat_moment_group was created\n",
      "metric group : frequency_stats was created\n",
      "metric group : correlation_stats_binary was created\n",
      "metric group : basic_robustness was created\n",
      "metric group : adversarial_robustness was created\n",
      "metric group : group_fairness was created\n",
      "metric group : individual_fairness was created\n",
      "metric group : dataset_fairness was created\n",
      "metric group : prediction_fairness was created\n",
      "metric group : sample_distortion_fairness was created\n"
     ]
    }
   ],
   "source": [
    "# Create a classifier and train it on the dataset.\n",
    "reg, train_preds, test_preds = get_classifier_and_preds(xTrain, xTest, yTrain)\n",
    "\n",
    "# Represent the AI Model and the Dataset as a RAI Ai System\n",
    "credit_ai = get_german_rai_ai_system(reg, rai_fairness_config, rai_MetaDatabase, rai_dataset)"
   ]
  },
  {
   "cell_type": "code",
   "execution_count": 12,
   "id": "cebbec6c",
   "metadata": {
    "tags": []
   },
   "outputs": [],
   "source": [
    "# Compute Metrics\n",
    "credit_ai.reset_redis()\n",
    "credit_ai.compute_metrics(test_preds, data_type=\"test\", export_title=\"Original\")\n"
   ]
  },
  {
   "cell_type": "code",
   "execution_count": 13,
   "id": "87346769",
   "metadata": {
    "tags": []
   },
   "outputs": [],
   "source": [
    "# Reweigh data to accommodate for the bias against age\n",
    "xTrain, xTest, yTrain, yTest = reweigh_dataset_for_age(X, y)\n",
    "\n",
    "# Create a RAI dataset from the new reweighed data and replace the existing dataset with the new one.\n",
    "new_reweigh_dataset = get_rai_dataset(xTrain, xTest, yTrain, yTest)\n",
    "credit_ai.dataset = new_reweigh_dataset"
   ]
  },
  {
   "cell_type": "code",
   "execution_count": 14,
   "id": "37d6a788",
   "metadata": {},
   "outputs": [],
   "source": [
    "# Retrain classifier on the new reweighed data\n",
    "reg, train_preds, test_preds = get_classifier_and_preds(xTrain, xTest, yTrain, reg=reg)\n",
    "\n",
    "\n",
    "# Recompute Metrics\n",
    "credit_ai.compute_metrics(test_preds, data_type=\"test\", export_title=\"Reweigh\")"
   ]
  },
  {
   "cell_type": "code",
   "execution_count": null,
   "id": "7a316de1-1750-4ac3-b4a8-0f511fd7936d",
   "metadata": {},
   "outputs": [],
   "source": []
  }
 ],
 "metadata": {
  "kernelspec": {
   "display_name": "Python 3 (ipykernel)",
   "language": "python",
   "name": "python3"
  },
  "language_info": {
   "codemirror_mode": {
    "name": "ipython",
    "version": 3
   },
   "file_extension": ".py",
   "mimetype": "text/x-python",
   "name": "python",
   "nbconvert_exporter": "python",
   "pygments_lexer": "ipython3",
   "version": "3.8.12"
  }
 },
 "nbformat": 4,
 "nbformat_minor": 5
}
