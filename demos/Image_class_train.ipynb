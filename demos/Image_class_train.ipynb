{
 "cells": [
  {
   "cell_type": "markdown",
   "id": "0a831de2",
   "metadata": {},
   "source": [
    "# Image_class_train"
   ]
  },
  {
   "cell_type": "code",
   "execution_count": 1,
   "id": "f28e7dd5",
   "metadata": {},
   "outputs": [],
   "source": [
    "# Copyright 2022 Cisco Systems, Inc. and its affiliates\n",
    "#\n",
    "# Licensed under the Apache License, Version 2.0 (the \"License\");\n",
    "# you may not use this file except in compliance with the License.\n",
    "# You may obtain a copy of the License at\n",
    "#\n",
    "#      http://www.apache.org/licenses/LICENSE-2.0\n",
    "#\n",
    "# Unless required by applicable law or agreed to in writing, software\n",
    "# distributed under the License is distributed on an \"AS IS\" BASIS,\n",
    "# WITHOUT WARRANTIES OR CONDITIONS OF ANY KIND, either express or implied.\n",
    "# See the License for the specific language governing permissions and\n",
    "# limitations under the License.\n",
    "#\n",
    "# SPDX-License-Identifier: Apache-2.0"
   ]
  },
  {
   "cell_type": "markdown",
   "id": "e323a9d4",
   "metadata": {},
   "source": [
    "\n",
    "## Description "
   ]
  },
  {
   "cell_type": "markdown",
   "id": "cc479d6b",
   "metadata": {},
   "source": [
    "This demo uses Cifar10 dataset and shows how RAI can be used monitor image processing tasks during training"
   ]
  },
  {
   "cell_type": "markdown",
   "id": "1e9f7e7a",
   "metadata": {},
   "source": [
    "## Importing modules"
   ]
  },
  {
   "cell_type": "code",
   "execution_count": 3,
   "id": "58a82433",
   "metadata": {},
   "outputs": [],
   "source": [
    "import os\n",
    "import sys\n",
    "import inspect\n",
    "import torch\n",
    "import torchvision\n",
    "import torchvision.transforms as transforms\n",
    "import torch.nn as nn\n",
    "import torch.optim as optim\n",
    "import random\n",
    "import numpy as np"
   ]
  },
  {
   "cell_type": "markdown",
   "id": "a5aca37b",
   "metadata": {},
   "source": [
    "\n",
    "## Importing RAI modules"
   ]
  },
  {
   "cell_type": "code",
   "execution_count": 4,
   "id": "a5beba11",
   "metadata": {},
   "outputs": [],
   "source": [
    "from RAI.AISystem import AISystem, Model\n",
    "from RAI.redis import RaiRedis\n",
    "from RAI.utils import torch_to_RAI\n",
    "from RAI.dataset import MetaDatabase, Feature, Dataset, NumpyData"
   ]
  },
  {
   "cell_type": "markdown",
   "id": "50ad2907",
   "metadata": {},
   "source": [
    "## Setup path"
   ]
  },
  {
   "cell_type": "code",
   "execution_count": null,
   "id": "0859cf7d",
   "metadata": {},
   "outputs": [],
   "source": [
    "current_dir = os.path.dirname(os.path.abspath(inspect.getfile(inspect.currentframe())))\n",
    "parent_dir = os.path.dirname(current_dir)\n",
    "sys.path.insert(0, parent_dir)\n",
    "\n",
    "\n",
    "def main():\n",
    "    os.environ[\"CUDA_VISIBLE_DEVICES\"] = \"cpu\"\n",
    "    torch.manual_seed(0)\n",
    "    random.seed(0)\n",
    "    np.random.seed(10)"
   ]
  },
  {
   "cell_type": "markdown",
   "id": "629ace0b",
   "metadata": {},
   "source": [
    "\n",
    "   ## Get Torch Data"
   ]
  },
  {
   "cell_type": "code",
   "execution_count": null,
   "id": "1ee8e0c6",
   "metadata": {},
   "outputs": [],
   "source": [
    "batch_size = 4\n",
    "    transform = transforms.Compose([transforms.ToTensor(), transforms.Normalize((0.5, 0.5, 0.5), (0.5, 0.5, 0.5))])\n",
    "    train_set = torchvision.datasets.CIFAR10(root='./data', train=True, download=True, transform=transform)\n",
    "    train_loader = torch.utils.data.DataLoader(train_set, batch_size=batch_size, shuffle=True, num_workers=2)\n",
    "    test_set = torchvision.datasets.CIFAR10(root='./data', train=False, download=True, transform=transform)\n",
    "    test_loader = torch.utils.data.DataLoader(test_set, batch_size=batch_size, shuffle=False, num_workers=2)\n"
   ]
  },
  {
   "cell_type": "markdown",
   "id": "e36232c1",
   "metadata": {},
   "source": [
    "## Convert train data to RAIs representation"
   ]
  },
  {
   "cell_type": "code",
   "execution_count": null,
   "id": "edfed84b",
   "metadata": {},
   "outputs": [],
   "source": [
    " x_test_data, y_test_data, raw_x_test_data = torch_to_RAI(test_loader, detailed=False)\n",
    "    classes = ('plane', 'car', 'bird', 'cat', 'deer', 'dog', 'frog', 'horse', 'ship', 'truck')"
   ]
  },
  {
   "cell_type": "markdown",
   "id": "14a743cd",
   "metadata": {},
   "source": [
    "## Define net"
   ]
  },
  {
   "cell_type": "code",
   "execution_count": null,
   "id": "691b30c2",
   "metadata": {},
   "outputs": [],
   "source": [
    "class Net(nn.Module):\n",
    "        def __init__(self):\n",
    "            super().__init__()\n",
    "            self.features_conv = nn.Sequential(\n",
    "                nn.Conv2d(3, 6, 5),\n",
    "                nn.ReLU(),\n",
    "                nn.MaxPool2d(2, 2),\n",
    "                nn.Conv2d(6, 16, 5),\n",
    "                nn.ReLU(),\n",
    "            )\n",
    "            self.f1 = nn.Sequential(\n",
    "                nn.MaxPool2d(2, 2),\n",
    "            )\n",
    "            self.flatten = True  # True if flatten is needed for fc\n",
    "            self.classifier = nn.Sequential(\n",
    "                nn.Linear(16 * 5 * 5, 120),\n",
    "                nn.ReLU(),\n",
    "                nn.Linear(120, 84),\n",
    "                nn.ReLU(),\n",
    "                nn.Linear(84, 10)\n",
    "            )\n",
    "\n",
    "        def forward(self, x):\n",
    "            x = self.features_conv(x)\n",
    "            x = self.f1(x)\n",
    "            x = torch.flatten(x, 1)\n",
    "            x = self.classifier(x)\n",
    "            return x\n",
    "\n",
    "    net = Net()\n",
    "    criterion = nn.CrossEntropyLoss()\n",
    "    optimizer = optim.SGD(net.parameters(), lr=0.001, momentum=0.9)\n"
   ]
  },
  {
   "cell_type": "markdown",
   "id": "536b1aa1",
   "metadata": {},
   "source": [
    "\n",
    "   ## Create train and test functions"
   ]
  },
  {
   "cell_type": "code",
   "execution_count": null,
   "id": "d0696994",
   "metadata": {},
   "outputs": [],
   "source": [
    "def train(epoch):\n",
    "        print(\"Training Model\")\n",
    "        running_loss = 0.0\n",
    "        for i, data in enumerate(train_loader, 0):\n",
    "            inputs, labels = data\n",
    "            optimizer.zero_grad()\n",
    "            outputs = net(inputs)\n",
    "            loss = criterion(outputs, labels)\n",
    "            loss.backward()\n",
    "            optimizer.step()\n",
    "            running_loss += loss.item()\n",
    "            if i % 2000 == 1999:  # print every 2000 mini-batches\n",
    "                print(f'[Epoch: {epoch + 1}, Mini-Batch: {i + 1:5d}] Loss: {running_loss / 2000:.3f}')\n",
    "                running_loss = 0.0\n",
    "\n",
    "    def test(epoch: int, ai, rai_redis):\n",
    "        print(\"Testing Model\")\n",
    "        preds = []\n",
    "        for i, vals in enumerate(test_loader, 0):\n",
    "            image, label = vals\n",
    "            _, predicted = torch.max(net(image), 1)\n",
    "            preds += predicted"
   ]
  },
  {
   "cell_type": "markdown",
   "id": "f3b6211d",
   "metadata": {},
   "source": [
    "## Pass test set predictions to RAI"
   ]
  },
  {
   "cell_type": "code",
   "execution_count": null,
   "id": "84384e15",
   "metadata": {},
   "outputs": [],
   "source": [
    "ai.compute({\"test\": {\"predict\": preds}}, tag='Epoch: ' + str(epoch))\n",
    "        rai_redis.add_measurement()\n",
    "        rai_redis.export_metadata()\n"
   ]
  },
  {
   "cell_type": "markdown",
   "id": "717dc892",
   "metadata": {},
   "source": [
    "## Train and test loop"
   ]
  },
  {
   "cell_type": "code",
   "execution_count": null,
   "id": "ef7c3341",
   "metadata": {},
   "outputs": [],
   "source": [
    "def train_test(conv_net, rai_redis):\n",
    "        for epoch in range(20):\n",
    "            train(epoch)\n",
    "            test(epoch, conv_net, rai_redis)"
   ]
  },
  {
   "cell_type": "markdown",
   "id": "0767bc59",
   "metadata": {},
   "source": [
    "## The predict function to pass to RAI"
   ]
  },
  {
   "cell_type": "code",
   "execution_count": null,
   "id": "fa165f1e",
   "metadata": {},
   "outputs": [],
   "source": [
    "   def predict(input_image):\n",
    "        if not isinstance(input_image, torch.Tensor):\n",
    "            input_image = torch.Tensor(input_image)\n",
    "        return net(input_image)"
   ]
  },
  {
   "cell_type": "markdown",
   "id": "793be20f",
   "metadata": {},
   "source": [
    "   ## Define input and output features of the model"
   ]
  },
  {
   "cell_type": "code",
   "execution_count": null,
   "id": "dac093f5",
   "metadata": {},
   "outputs": [],
   "source": [
    "  image = Feature('Input Image', 'image', 'The 32x32 input image')\n",
    "    outputs = Feature('Image Class', 'numeric', 'The type of image', categorical=True, values={i: v for i, v in enumerate(classes)})"
   ]
  },
  {
   "cell_type": "markdown",
   "id": "1aeb9504",
   "metadata": {},
   "source": [
    "  ## Create the meta database describing the dataset"
   ]
  },
  {
   "cell_type": "code",
   "execution_count": null,
   "id": "d879dec9",
   "metadata": {},
   "outputs": [],
   "source": [
    " meta = MetaDatabase([image])"
   ]
  },
  {
   "cell_type": "markdown",
   "id": "8b58f42e",
   "metadata": {},
   "source": [
    "## Create a RAI Model"
   ]
  },
  {
   "cell_type": "code",
   "execution_count": null,
   "id": "b92cd706",
   "metadata": {},
   "outputs": [],
   "source": [
    "  model = Model(agent=net, output_features=outputs, name=\"conv_net\", predict_fun=predict, description=\"ConvNet\", model_class=\"ConvNet\",\n",
    "                  loss_function=criterion, optimizer=optimizer)"
   ]
  },
  {
   "cell_type": "markdown",
   "id": "643cbeb6",
   "metadata": {},
   "source": [
    "  ## Convert the data split to a RAI Dataset"
   ]
  },
  {
   "cell_type": "code",
   "execution_count": null,
   "id": "7269fda7",
   "metadata": {},
   "outputs": [],
   "source": [
    "  dataset = Dataset({\"test\": NumpyData(x_test_data, y_test_data, raw_x_test_data)})"
   ]
  },
  {
   "cell_type": "markdown",
   "id": "1812b54a",
   "metadata": {},
   "source": [
    " ## Create a RAI AI System"
   ]
  },
  {
   "cell_type": "code",
   "execution_count": null,
   "id": "a1be2f83",
   "metadata": {},
   "outputs": [],
   "source": [
    "  ai = AISystem(name=\"cifar_classification_train\", task='classification', meta_database=meta, dataset=dataset, model=model)\n",
    "    configuration = {\"time_complexity\": \"polynomial\"}\n",
    "    ai.initialize(user_config=configuration)"
   ]
  },
  {
   "cell_type": "markdown",
   "id": "88b952e5",
   "metadata": {},
   "source": [
    " ## Turn on the dashboard"
   ]
  },
  {
   "cell_type": "code",
   "execution_count": null,
   "id": "fb103b45",
   "metadata": {},
   "outputs": [],
   "source": [
    "r = RaiRedis(ai)\n",
    "    r.connect()\n",
    "    r.reset_redis()"
   ]
  },
  {
   "cell_type": "markdown",
   "id": "b2dce2c0",
   "metadata": {},
   "source": [
    " ## Run the training and test loop"
   ]
  },
  {
   "cell_type": "code",
   "execution_count": null,
   "id": "de669e39",
   "metadata": {},
   "outputs": [],
   "source": [
    "   train_test(ai, r)\n",
    "    r.export_visualizations(\"test\", \"test\")\n",
    "\n",
    "\n",
    "if __name__ == '__main__':\n",
    "    main()\n"
   ]
  }
 ],
 "metadata": {
  "kernelspec": {
   "display_name": "Python 3 (ipykernel)",
   "language": "python",
   "name": "python3"
  },
  "language_info": {
   "codemirror_mode": {
    "name": "ipython",
    "version": 3
   },
   "file_extension": ".py",
   "mimetype": "text/x-python",
   "name": "python",
   "nbconvert_exporter": "python",
   "pygments_lexer": "ipython3",
   "version": "3.9.13"
  }
 },
 "nbformat": 4,
 "nbformat_minor": 5
}
