{
 "cells": [
  {
   "cell_type": "markdown",
   "id": "b048dd45",
   "metadata": {},
   "source": [
    "# Adult_rfc_selection"
   ]
  },
  {
   "cell_type": "code",
   "execution_count": 1,
   "id": "14ced2d3",
   "metadata": {},
   "outputs": [],
   "source": [
    "# Copyright 2022 Cisco Systems, Inc. and its affiliates\n",
    "#\n",
    "# Licensed under the Apache License, Version 2.0 (the \"License\");\n",
    "# you may not use this file except in compliance with the License.\n",
    "# You may obtain a copy of the License at\n",
    "#\n",
    "#      http://www.apache.org/licenses/LICENSE-2.0\n",
    "#\n",
    "# Unless required by applicable law or agreed to in writing, software\n",
    "# distributed under the License is distributed on an \"AS IS\" BASIS,\n",
    "# WITHOUT WARRANTIES OR CONDITIONS OF ANY KIND, either express or implied.\n",
    "# See the License for the specific language governing permissions and\n",
    "# limitations under the License.\n",
    "#\n",
    "# SPDX-License-Identifier: Apache-2.0"
   ]
  },
  {
   "cell_type": "markdown",
   "id": "f4799647",
   "metadata": {},
   "source": [
    "## Description "
   ]
  },
  {
   "cell_type": "markdown",
   "id": "a5d3deac",
   "metadata": {},
   "source": [
    "This demo uses the Adults dataset (https://archive.ics.uci.edu/ml/datasets/adult) to show how RAI can be used in model selection"
   ]
  },
  {
   "cell_type": "markdown",
   "id": "15265ccb",
   "metadata": {},
   "source": [
    "## Importing modules"
   ]
  },
  {
   "cell_type": "code",
   "execution_count": null,
   "id": "0124653b",
   "metadata": {},
   "outputs": [],
   "source": [
    "import os\n",
    "import sys\n",
    "import inspect\n",
    "import pandas as pd\n",
    "from sklearn.model_selection import train_test_split\n",
    "from sklearn.ensemble import RandomForestClassifier"
   ]
  },
  {
   "cell_type": "markdown",
   "id": "cd437150",
   "metadata": {},
   "source": [
    "## Importing RAI modules"
   ]
  },
  {
   "cell_type": "code",
   "execution_count": null,
   "id": "1ef40e45",
   "metadata": {},
   "outputs": [],
   "source": [
    "from RAI.AISystem import AISystem, Model\n",
    "from RAI.dataset import NumpyData, Dataset\n",
    "from RAI.redis import RaiRedis\n",
    "from RAI.utils import df_to_RAI\n"
   ]
  },
  {
   "cell_type": "markdown",
   "id": "1948453b",
   "metadata": {},
   "source": [
    "## Setup path"
   ]
  },
  {
   "cell_type": "code",
   "execution_count": null,
   "id": "a5953346",
   "metadata": {},
   "outputs": [],
   "source": [
    "currentdir = os.path.dirname(os.path.abspath(inspect.getfile(inspect.currentframe())))\n",
    "parentdir = os.path.dirname(currentdir)\n",
    "sys.path.insert(0, parentdir)\n",
    "sys.path.append(os.path.dirname(os.path.dirname(os.path.abspath(__file__))))\n"
   ]
  },
  {
   "cell_type": "markdown",
   "id": "232ebbd0",
   "metadata": {},
   "source": [
    "## Configuration"
   ]
  },
  {
   "cell_type": "code",
   "execution_count": null,
   "id": "ce785099",
   "metadata": {},
   "outputs": [],
   "source": [
    "use_dashboard = True\n",
    "data_path = \"../data/adult/\""
   ]
  },
  {
   "cell_type": "markdown",
   "id": "5c935db8",
   "metadata": {},
   "source": [
    "\n",
    "## loading train and test data"
   ]
  },
  {
   "cell_type": "code",
   "execution_count": null,
   "id": "af448111",
   "metadata": {},
   "outputs": [],
   "source": [
    "train_data = pd.read_csv(data_path + \"train.csv\", header=0,\n",
    "                         skipinitialspace=True, na_values=\"?\")\n",
    "test_data = pd.read_csv(data_path + \"test.csv\", header=0,\n",
    "                        skipinitialspace=True, na_values=\"?\")\n",
    "all_data = pd.concat([train_data, test_data], ignore_index=True)\n"
   ]
  },
  {
   "cell_type": "markdown",
   "id": "24203153",
   "metadata": {},
   "source": [
    "## Convert aggregated data into RAI format"
   ]
  },
  {
   "cell_type": "code",
   "execution_count": null,
   "id": "5decaa3b",
   "metadata": {},
   "outputs": [],
   "source": [
    "meta, X, y, output = df_to_RAI(all_data, target_column=\"income-per-year\", normalize=\"Scalar\", max_categorical_threshold=5)\n",
    "xTrain, xTest, yTrain, yTest = train_test_split(X, y, random_state=1, stratify=y)\n"
   ]
  },
  {
   "cell_type": "markdown",
   "id": "9908d5ee",
   "metadata": {},
   "source": [
    "## Create a model to make predictions"
   ]
  },
  {
   "cell_type": "code",
   "execution_count": null,
   "id": "0a85dbd5",
   "metadata": {},
   "outputs": [],
   "source": [
    "reg = RandomForestClassifier(n_estimators=10, criterion='entropy', random_state=0, min_samples_leaf=5, max_depth=2)\n",
    "model = Model(agent=reg, output_features=output, name=\"cisco_income_ai\", predict_fun=reg.predict, predict_prob_fun=reg.predict_proba,\n",
    "              description=\"Income Prediction Model\", model_class=\"Random Forest Classifier\")\n",
    "configuration = {\"fairness\": {\"priv_group\": {\"race\": {\"privileged\": 1, \"unprivileged\": 0}},\n",
    "                              \"protected_attributes\": [\"race\"], \"positive_label\": 1}, \"time_complexity\": \"polynomial\"}\n",
    "\n"
   ]
  },
  {
   "cell_type": "markdown",
   "id": "6a1db9c4",
   "metadata": {},
   "source": [
    "## Setup the dataset"
   ]
  },
  {
   "cell_type": "code",
   "execution_count": null,
   "id": "ee156ed8",
   "metadata": {},
   "outputs": [],
   "source": [
    "dataset = Dataset({\"train\": NumpyData(xTrain, yTrain), \"test\": NumpyData(xTest, yTest)})"
   ]
  },
  {
   "cell_type": "markdown",
   "id": "579c7bc8",
   "metadata": {},
   "source": [
    "\n",
    "## Initialize RAI "
   ]
  },
  {
   "cell_type": "code",
   "execution_count": null,
   "id": "3b6df187",
   "metadata": {},
   "outputs": [],
   "source": [
    "ai = AISystem(\"Adult_rfc_selection\", task='binary_classification', meta_database=meta, dataset=dataset, model=model)\n",
    "ai.initialize(user_config=configuration)\n",
    "\n",
    "if use_dashboard:\n",
    "    r = RaiRedis(ai)\n",
    "    r.connect()\n",
    "    r.reset_redis()"
   ]
  },
  {
   "cell_type": "markdown",
   "id": "a08105db",
   "metadata": {},
   "source": [
    "## Function to evaluate each model  "
   ]
  },
  {
   "cell_type": "code",
   "execution_count": null,
   "id": "87f63912",
   "metadata": {},
   "outputs": [],
   "source": [
    "def test_model(mdl, name):\n",
    "    mdl.fit(xTrain, yTrain)\n",
    "    ai.model.agent = mdl\n",
    "    ai.model.predict_fun = mdl.predict\n",
    "    ai.model.predict_prob_fun = mdl.predict_proba\n",
    "    ai.compute({\"test\": {\"predict\": mdl.predict(xTest)}}, tag=name)\n",
    "\n",
    "    if use_dashboard:\n",
    "        r.export_metadata()\n",
    "        r.add_measurement()\n",
    "\n",
    "\n",
    "test_model(reg, \"rfc_entropy\")\n",
    "reg2 = RandomForestClassifier(n_estimators=11, criterion='gini', random_state=0, min_samples_leaf=10, max_depth=3)\n",
    "test_model(reg2, \"rfc_gini\")\n",
    "\n",
    "if use_dashboard:\n",
    "    r.export_visualizations(\"test\", \"test\")"
   ]
  }
 ],
 "metadata": {
  "kernelspec": {
   "display_name": "Python 3 (ipykernel)",
   "language": "python",
   "name": "python3"
  },
  "language_info": {
   "codemirror_mode": {
    "name": "ipython",
    "version": 3
   },
   "file_extension": ".py",
   "mimetype": "text/x-python",
   "name": "python",
   "nbconvert_exporter": "python",
   "pygments_lexer": "ipython3",
   "version": "3.9.13"
  }
 },
 "nbformat": 4,
 "nbformat_minor": 5
}
