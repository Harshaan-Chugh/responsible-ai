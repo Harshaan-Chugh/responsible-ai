{
 "cells": [
  {
   "cell_type": "markdown",
   "id": "62808480-7cb6-4b79-a9d0-934846e560b8",
   "metadata": {},
   "source": [
    "### imports && loading data"
   ]
  },
  {
   "cell_type": "code",
   "execution_count": 1,
   "id": "f846a7d6-8e74-4ac5-91c8-7c6aa52e168e",
   "metadata": {},
   "outputs": [],
   "source": [
    "import os, sys\n",
    "from RAI.dataset import Data, Dataset\n",
    "from RAI.AISystem import AISystem, Model, Task\n",
    "from RAI.utils import df_to_RAI\n",
    "from RAI.torch import TorchRaiDB\n",
    "from RAI.redis import RaiRedis\n",
    "import numpy as np\n",
    "import pandas as pd\n",
    "import torch  \n",
    "from torch import nn\n",
    "from sklearn.datasets import load_breast_cancer\n",
    "from sklearn.model_selection import train_test_split\n",
    "from sklearn.ensemble import RandomForestClassifier, AdaBoostClassifier, GradientBoostingClassifier\n",
    " \n",
    "use_dashboard  = True\n",
    "np.random.seed(21)\n",
    "from RAI.utils import Reweighing\n",
    " \n",
    "\n",
    " \n",
    "\n",
    "data_path = \"./data/adult/\"\n",
    "\n",
    "train_data = pd.read_csv(data_path+\"train.csv\", header=0,\n",
    "                    skipinitialspace=True, na_values=\"?\")\n",
    "test_data = pd.read_csv(data_path+\"test.csv\", header=0,\n",
    "                skipinitialspace=True, na_values=\"?\")\n",
    "all_data = pd.concat( [train_data, test_data],ignore_index=True)\n",
    "\n",
    "mdl = RandomForestClassifier(n_estimators=5, min_samples_leaf=20, max_depth=2)\n",
    "#convert aggregated data into RAI format\n",
    "meta, X,y  = df_to_RAI(all_data, target_column = \"income-per-year\", normalize = None, max_categorical_threshold = 5)\n",
    "xTrain, xTest, yTrain, yTest = train_test_split(X, y, random_state=1, stratify=y)\n",
    "\n",
    "#%%  \n",
    "# Create a model to make predictions\n",
    "model = Model(agent=mdl, model_class=\"Random Forest Classifier\")\n",
    "task = Task(model=model, type='binary_classification', description=\"Detect Cancer in patients using skin measurements\")\n",
    "configuration = {\"fairness\": {\"priv_group\": {\"race\": {\"privileged\": 1, \"unprivileged\": 0}},\n",
    "                                \"protected_attributes\": [\"race\"], \"positive_label\": 1},\n",
    "                    \"time_complexity\": \"polynomial\"}\n",
    "\n",
    "dataset = Dataset(  train_data = Data(xTrain , yTrain), \n",
    "                        test_data = Data(xTest , yTest)) "
   ]
  },
  {
   "cell_type": "markdown",
   "id": "618e3351-ffe7-4705-b452-622bc5ce6d38",
   "metadata": {},
   "source": [
    "### Initialize RAI"
   ]
  },
  {
   "cell_type": "code",
   "execution_count": 2,
   "id": "3723d61e-4541-4c9d-af91-6d57fd1229c3",
   "metadata": {},
   "outputs": [
    {
     "name": "stdout",
     "output_type": "stream",
     "text": [
      "metric group : metadata was loaded\n",
      "metric group : Tree Models was loaded\n",
      "metric group : performance_cl was loaded\n",
      "metric group : summary_stats was loaded\n",
      "metric group : stat_moment_group was loaded\n",
      "metric group : frequency_stats was loaded\n",
      "metric group : correlation_stats_binary was loaded\n",
      "metric group : basic_robustness was loaded\n",
      "metric group : noise_robustness was loaded\n",
      "metric group : adversarial_robustness was loaded\n",
      "metric group : group_fairness was loaded\n",
      "metric group : individual_fairness was loaded\n",
      "metric group : dataset_fairness was loaded\n",
      "metric group : prediction_fairness was loaded\n",
      "metric group : sample_distortion_fairness was loaded\n",
      "metric group : basic_explainablity was loaded\n"
     ]
    }
   ],
   "source": [
    "ai = AISystem(\"AdultDB_Test1\", meta_database=meta, dataset=dataset, task=task )\n",
    "ai.initialize(user_config=configuration)\n",
    "if use_dashboard:\n",
    "    r = RaiRedis( ai )\n",
    "    r.reset_redis()"
   ]
  },
  {
   "cell_type": "markdown",
   "id": "063c89b8-8788-457c-9498-893d353ec158",
   "metadata": {},
   "source": [
    "### Model Fitting"
   ]
  },
  {
   "cell_type": "code",
   "execution_count": 3,
   "id": "bff0f180-fbc3-4f61-b5c6-71db5414dca9",
   "metadata": {},
   "outputs": [],
   "source": [
    "#%%\n",
    "\n",
    "mdl.fit(xTrain,yTrain)\n",
    "\n",
    "ai.compute( mdl.predict(xTest), data_type=\"test\", tag=\"Random Forest\")\n",
    "r.add_measurement()\n",
    "        \n",
    " "
   ]
  },
  {
   "cell_type": "markdown",
   "id": "04e07a51-fed9-4e96-b821-27a9936c461b",
   "metadata": {},
   "source": [
    "### Reweighing"
   ]
  },
  {
   "cell_type": "code",
   "execution_count": 4,
   "id": "8639d7c3-f6ab-4671-be33-f2d2b49fe367",
   "metadata": {},
   "outputs": [],
   "source": [
    "Reweighing()\n",
    "mdl.fit(xTrain,yTrain)\n",
    "\n",
    "ai.compute( mdl.predict(xTest), data_type=\"test\", tag=\"Random Forest with Reweighting\")\n",
    "r.add_measurement() \n"
   ]
  },
  {
   "cell_type": "code",
   "execution_count": null,
   "id": "434cd46d-b15b-459a-96c8-119e2398caeb",
   "metadata": {},
   "outputs": [],
   "source": []
  },
  {
   "cell_type": "code",
   "execution_count": null,
   "id": "4b60c904-2064-499d-8fa9-9b39d6ce990a",
   "metadata": {},
   "outputs": [],
   "source": []
  }
 ],
 "metadata": {
  "kernelspec": {
   "display_name": "Python 3 (ipykernel)",
   "language": "python",
   "name": "python3"
  },
  "language_info": {
   "codemirror_mode": {
    "name": "ipython",
    "version": 3
   },
   "file_extension": ".py",
   "mimetype": "text/x-python",
   "name": "python",
   "nbconvert_exporter": "python",
   "pygments_lexer": "ipython3",
   "version": "3.9.7"
  }
 },
 "nbformat": 4,
 "nbformat_minor": 5
}
