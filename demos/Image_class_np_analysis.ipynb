{
 "cells": [
  {
   "cell_type": "markdown",
   "id": "bfa94f4e",
   "metadata": {},
   "source": [
    "# Image_class_np_analysis"
   ]
  },
  {
   "cell_type": "code",
   "execution_count": null,
   "id": "f6d44186",
   "metadata": {},
   "outputs": [],
   "source": [
    "# Copyright 2022 Cisco Systems, Inc. and its affiliates\n",
    "#\n",
    "# Licensed under the Apache License, Version 2.0 (the \"License\");\n",
    "# you may not use this file except in compliance with the License.\n",
    "# You may obtain a copy of the License at\n",
    "#\n",
    "#      http://www.apache.org/licenses/LICENSE-2.0\n",
    "#\n",
    "# Unless required by applicable law or agreed to in writing, software\n",
    "# distributed under the License is distributed on an \"AS IS\" BASIS,\n",
    "# WITHOUT WARRANTIES OR CONDITIONS OF ANY KIND, either express or implied.\n",
    "# See the License for the specific language governing permissions and\n",
    "# limitations under the License.\n",
    "#\n",
    "# SPDX-License-Identifier: Apache-2.0"
   ]
  },
  {
   "cell_type": "markdown",
   "id": "028e4d80",
   "metadata": {},
   "source": [
    "## Description "
   ]
  },
  {
   "cell_type": "markdown",
   "id": "e466c349",
   "metadata": {},
   "source": [
    "This demo uses Cifar10 dataset and shows how RAI can be used to evaluate image classification tasks"
   ]
  },
  {
   "cell_type": "markdown",
   "id": "869ffae1",
   "metadata": {},
   "source": [
    "## Importing modules"
   ]
  },
  {
   "cell_type": "code",
   "execution_count": 1,
   "id": "48c79118",
   "metadata": {},
   "outputs": [],
   "source": [
    "import os\n",
    "import sys\n",
    "import inspect\n",
    "import torch\n",
    "import torchvision\n",
    "import torchvision.transforms as transforms\n",
    "import torch.nn as nn\n",
    "import torch.optim as optim\n",
    "import random\n",
    "import numpy as np"
   ]
  },
  {
   "cell_type": "markdown",
   "id": "66305c32",
   "metadata": {},
   "source": [
    "## Importing RAI modules"
   ]
  },
  {
   "cell_type": "code",
   "execution_count": 2,
   "id": "dbcddf19",
   "metadata": {},
   "outputs": [],
   "source": [
    "from RAI.AISystem import AISystem, Model\n",
    "from RAI.redis import RaiRedis\n",
    "from RAI.utils import torch_to_RAI\n",
    "from RAI.dataset import MetaDatabase, Feature, Dataset, NumpyData"
   ]
  },
  {
   "cell_type": "markdown",
   "id": "61c109ef",
   "metadata": {},
   "source": [
    "\n",
    "## Setup path"
   ]
  },
  {
   "cell_type": "code",
   "execution_count": null,
   "id": "297220b0",
   "metadata": {},
   "outputs": [],
   "source": [
    "current_dir = os.path.dirname(os.path.abspath(inspect.getfile(inspect.currentframe())))\n",
    "parent_dir = os.path.dirname(current_dir)\n",
    "sys.path.insert(0, parent_dir)\n",
    "\n",
    "\n",
    "def main():\n",
    "    os.environ[\"CUDA_VISIBLE_DEVICES\"] = \"cpu\"\n",
    "    torch.manual_seed(0)\n",
    "    random.seed(0)\n",
    "    np.random.seed(10)\n",
    "    PATH = '../cifar_net.pth'"
   ]
  },
  {
   "cell_type": "markdown",
   "id": "52401293",
   "metadata": {},
   "source": [
    "\n",
    "   ## Get Data"
   ]
  },
  {
   "cell_type": "code",
   "execution_count": null,
   "id": "331aa559",
   "metadata": {},
   "outputs": [],
   "source": [
    "   batch_size = 256\n",
    "    transform = transforms.Compose([transforms.ToTensor()])  # transforms.Normalize((0.5, 0.5, 0.5), (0.5, 0.5, 0.5))])\n",
    "    train_set = torchvision.datasets.CIFAR10(root='./data', train=True, download=True, transform=transform)\n",
    "    train_loader = torch.utils.data.DataLoader(train_set, batch_size=batch_size, shuffle=True, num_workers=2)\n",
    "    test_set = torchvision.datasets.CIFAR10(root='./data', train=False, download=True, transform=transform)\n",
    "    test_loader = torch.utils.data.DataLoader(test_set, batch_size=batch_size, shuffle=False, num_workers=2)\n",
    "    classes = ('plane', 'car', 'bird', 'cat', 'deer', 'dog', 'frog', 'horse', 'ship', 'truck')"
   ]
  },
  {
   "cell_type": "markdown",
   "id": "848eb432",
   "metadata": {},
   "source": [
    "  ## Define Model"
   ]
  },
  {
   "cell_type": "code",
   "execution_count": null,
   "id": "d5068643",
   "metadata": {},
   "outputs": [],
   "source": [
    "class Net(nn.Module):\n",
    "        def __init__(self):\n",
    "            super().__init__()\n",
    "            self.features_conv = nn.Sequential(\n",
    "                nn.Conv2d(3, 6, 5),\n",
    "                nn.ReLU(),\n",
    "                nn.MaxPool2d(2, 2),\n",
    "                nn.Conv2d(6, 16, 5),\n",
    "                nn.ReLU(),\n",
    "            )\n",
    "            self.f1 = nn.Sequential(\n",
    "                nn.MaxPool2d(2, 2),\n",
    "            )\n",
    "            self.flatten = True\n",
    "            self.classifier = nn.Sequential(\n",
    "                nn.Linear(16 * 5 * 5, 120),\n",
    "                nn.ReLU(),\n",
    "                nn.Linear(120, 84),\n",
    "                nn.ReLU(),\n",
    "                nn.Linear(84, 10)\n",
    "            )\n",
    "\n",
    "        def forward(self, x):\n",
    "            x = self.features_conv(x)\n",
    "            x = self.f1(x)\n",
    "            x = torch.flatten(x, 1)\n",
    "            x = self.classifier(x)\n",
    "            return x"
   ]
  },
  {
   "cell_type": "markdown",
   "id": "0b0ce041",
   "metadata": {},
   "source": [
    "## Create network"
   ]
  },
  {
   "cell_type": "code",
   "execution_count": null,
   "id": "1a4d7b65",
   "metadata": {},
   "outputs": [],
   "source": [
    "net = Net()\n",
    "    criterion = nn.CrossEntropyLoss()\n",
    "    optimizer = optim.SGD(net.parameters(), lr=0.001, momentum=0.9)\n",
    "\n",
    "    def train():\n",
    "        print(\"Starting training\")\n",
    "        for epoch in range(5):  # loop over the dataset multiple times\n",
    "            running_loss = 0.0\n",
    "            for i, data in enumerate(train_loader, 0):\n",
    "                inputs, labels = data\n",
    "                optimizer.zero_grad()\n",
    "                outputs = net(inputs)\n",
    "                loss = criterion(outputs, labels)\n",
    "                loss.backward()\n",
    "                optimizer.step()\n",
    "                running_loss += loss.item()\n",
    "                if i % 2000 == 1999:  # print every 2000 mini-batches\n",
    "                    print(f'[{epoch + 1}, {i + 1:5d}] loss: {running_loss / 2000:.3f}')\n",
    "                    running_loss = 0.0\n",
    "        torch.save(net.state_dict(), PATH)"
   ]
  },
  {
   "cell_type": "markdown",
   "id": "05d7c284",
   "metadata": {},
   "source": [
    "## Define predict function to use for RAI"
   ]
  },
  {
   "cell_type": "code",
   "execution_count": null,
   "id": "dc39eb4a",
   "metadata": {},
   "outputs": [],
   "source": [
    " def predict_proba(input_image):\n",
    "        return torch.softmax(net(input_image), 1)\n",
    "\n",
    "    def predict(input_image):\n",
    "        _, predicted = torch.max(net(input_image), 1)\n",
    "        return predicted.tolist()\n"
   ]
  },
  {
   "cell_type": "markdown",
   "id": "e03d25a6",
   "metadata": {},
   "source": [
    "## Load the model if it exists, otherwise train one"
   ]
  },
  {
   "cell_type": "code",
   "execution_count": null,
   "id": "b92a7f07",
   "metadata": {},
   "outputs": [],
   "source": [
    "if os.path.isfile(PATH):\n",
    "        print(\"Loading model\")\n",
    "        net.load_state_dict(torch.load(PATH))\n",
    "    else:\n",
    "        train()\n"
   ]
  },
  {
   "cell_type": "markdown",
   "id": "bda5c688",
   "metadata": {},
   "source": [
    "## Define input and output features"
   ]
  },
  {
   "cell_type": "code",
   "execution_count": null,
   "id": "ce0e33c4",
   "metadata": {},
   "outputs": [],
   "source": [
    " xTestData, yTestData, rawXTestData = torch_to_RAI(test_loader)\n",
    "    image = Feature('image', 'image', 'The 32x32 input image')\n",
    "    outputs = Feature('image_type', 'numeric', 'The type of image', categorical=True, values={i: v for i, v in enumerate(classes)})\n",
    "    meta = MetaDatabase([image])\n",
    "\n",
    "    net.eval()"
   ]
  },
  {
   "cell_type": "markdown",
   "id": "8d33ca73",
   "metadata": {},
   "source": [
    "   ## Pass model to RAI"
   ]
  },
  {
   "cell_type": "code",
   "execution_count": null,
   "id": "a88b3b02",
   "metadata": {},
   "outputs": [],
   "source": [
    "model = Model(agent=net, output_features=outputs, name=\"conv_net\", predict_fun=predict, predict_prob_fun=predict_proba,\n",
    "                  description=\"ConvNet\", model_class=\"ConvNet\", loss_function=criterion, optimizer=optimizer)\n",
    "    configuration = {\"time_complexity\": \"polynomial\"}"
   ]
  },
  {
   "cell_type": "markdown",
   "id": "321ab1d1",
   "metadata": {},
   "source": [
    "\n",
    "   ## Pass data splits to RAI"
   ]
  },
  {
   "cell_type": "code",
   "execution_count": null,
   "id": "5e288626",
   "metadata": {},
   "outputs": [],
   "source": [
    "   dataset = Dataset({\"test\": NumpyData(xTestData, yTestData, rawXTestData)})"
   ]
  },
  {
   "cell_type": "markdown",
   "id": "ca48e0be",
   "metadata": {},
   "source": [
    "## Create the RAI AISystem"
   ]
  },
  {
   "cell_type": "code",
   "execution_count": null,
   "id": "35a429da",
   "metadata": {},
   "outputs": [],
   "source": [
    "ai = AISystem(name=\"cifar_classification_np\", task='classification', meta_database=meta, dataset=dataset, model=model)\n",
    "    ai.initialize(user_config=configuration)"
   ]
  },
  {
   "cell_type": "markdown",
   "id": "eebebff5",
   "metadata": {},
   "source": [
    "\n",
    "   ## Generate predictions"
   ]
  },
  {
   "cell_type": "code",
   "execution_count": null,
   "id": "223e39ea",
   "metadata": {},
   "outputs": [],
   "source": [
    "   preds = []\n",
    "    for i, vals in enumerate(test_loader, 0):\n",
    "        image, label = vals\n",
    "        _, predicted = torch.max(net(image), 1)\n",
    "        preds += predicted\n",
    "\n",
    "    print(\"Predictions generated\")\n",
    "    # Compute Metrics based on the predictions\n",
    "    ai.compute({\"test\": {\"predict\": preds}}, tag='model 1')\n"
   ]
  },
  {
   "cell_type": "markdown",
   "id": "56107da4",
   "metadata": {},
   "source": [
    "\n",
    "   ## View the dashboard"
   ]
  },
  {
   "cell_type": "code",
   "execution_count": null,
   "id": "50c7124e",
   "metadata": {},
   "outputs": [],
   "source": [
    "    r = RaiRedis(ai)\n",
    "    r.connect()\n",
    "    r.reset_redis()\n",
    "    r.add_measurement()\n",
    "    r.export_metadata()\n",
    "    r.export_visualizations(\"test\", \"test\")\n",
    "\n",
    "\n",
    "if __name__ == '__main__':\n",
    "    main()\n"
   ]
  }
 ],
 "metadata": {
  "kernelspec": {
   "display_name": "Python 3 (ipykernel)",
   "language": "python",
   "name": "python3"
  },
  "language_info": {
   "codemirror_mode": {
    "name": "ipython",
    "version": 3
   },
   "file_extension": ".py",
   "mimetype": "text/x-python",
   "name": "python",
   "nbconvert_exporter": "python",
   "pygments_lexer": "ipython3",
   "version": "3.9.13"
  }
 },
 "nbformat": 4,
 "nbformat_minor": 5
}
