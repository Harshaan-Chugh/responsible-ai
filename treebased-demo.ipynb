{
 "cells": [
  {
   "cell_type": "code",
   "execution_count": 11,
   "id": "6ef16725-aea4-4ee2-9976-5e1c160c9a0c",
   "metadata": {},
   "outputs": [],
   "source": [
    "from demo_helper_code.demo_helper_functions import *\n",
    "import numpy as np\n",
    "import random\n",
    "from sklearn.ensemble import RandomForestClassifier\n",
    "from sklearn.ensemble import GradientBoostingClassifier\n",
    "from RAI.AISystem import AISystem, Model, Task"
   ]
  },
  {
   "cell_type": "markdown",
   "id": "44e2caef-f298-4efb-af5d-f3008d68f0bd",
   "metadata": {
    "tags": []
   },
   "source": [
    "### loading breast cancer data "
   ]
  },
  {
   "cell_type": "code",
   "execution_count": 6,
   "id": "b8e3758c-1fc1-4411-801c-5abb704f8d1e",
   "metadata": {},
   "outputs": [],
   "source": [
    "random.seed(3)\n",
    "np.random.seed(14)\n",
    "\n",
    "\n",
    "# Get Dataset\n",
    "xTrain, xTest, yTrain, yTest = load_breast_cancer_dataset()\n",
    "\n",
    "\n",
    "# Put Data into RAI's format\n",
    "rai_MetaDatabase = get_breast_cancer_metadatabase()\n",
    "rai_dataset = get_rai_dataset(xTrain, xTest, yTrain, yTest)"
   ]
  },
  {
   "cell_type": "markdown",
   "id": "365f1aff-bccc-4802-babc-2de29402ce15",
   "metadata": {},
   "source": [
    "### Setting us RAI"
   ]
  },
  {
   "cell_type": "code",
   "execution_count": 7,
   "id": "1926fcca-6def-470a-9bbb-11307d416f6d",
   "metadata": {},
   "outputs": [
    {
     "name": "stdout",
     "output_type": "stream",
     "text": [
      "metric group : metadata was created\n",
      "metric group : performance_cl was created\n",
      "metric group : summary_stats was created\n",
      "metric group : stat_moment_group was created\n",
      "metric group : frequency_stats was created\n",
      "metric group : correlation_stats_binary was created\n",
      "metric group : basic_robustness was created\n",
      "metric group : adversarial_robustness was created\n",
      "metric group : adversarial_validation_tree was created\n"
     ]
    }
   ],
   "source": [
    "model = Model(agent=RandomForestClassifier(), name=\"cisco_ai_train_cycle\", display_name=\"Cisco AI Train Test\",\n",
    "                  model_class=\"Neural Network\", adaptive=True, optimizer=None, loss_function=None)\n",
    "    \n",
    "task = Task(model=model, type='binary_classification',\n",
    "            description=\"Detect Cancer in patients using skin measurements\")\n",
    "\n",
    "ai = AISystem(meta_database=rai_MetaDatabase, dataset=rai_dataset, task=task, user_config={\"time_complexity\": \"polynomial\"},\n",
    "                      custom_certificate_location=\"cert_list_ad_demo.json\")\n",
    "ai.initialize()\n",
    "ai.reset_redis()\n",
    "ai.viewGUI()"
   ]
  },
  {
   "cell_type": "markdown",
   "id": "fe8a0d5e-edf8-454e-a112-d88dd981781d",
   "metadata": {},
   "source": [
    "## Random Forest classifier:"
   ]
  },
  {
   "cell_type": "code",
   "execution_count": 8,
   "id": "3be6ce9e-9355-4629-be56-38070522a388",
   "metadata": {},
   "outputs": [],
   "source": [
    "reg_rf = RandomForestClassifier(n_estimators=10, max_depth=10, criterion='entropy', random_state=0)\n",
    "reg_rf.fit(xTrain, yTrain)\n",
    "\n",
    "# Compute Metrics \n",
    "ai.set_agent(reg_rf)\n",
    "ai.compute_metrics(reg_rf.predict(xTest), data_type=\"test\", export_title=\"Random Forest\")\n",
    "\n"
   ]
  },
  {
   "cell_type": "markdown",
   "id": "941a6ff9-eb43-4c6f-9ef8-2d5d0fbe5903",
   "metadata": {},
   "source": [
    "### Decision Tree"
   ]
  },
  {
   "cell_type": "code",
   "execution_count": 10,
   "id": "30d83ccd-5ebc-4c9c-8dcd-d62f51c099ac",
   "metadata": {},
   "outputs": [],
   "source": [
    "reg_dt = RandomForestClassifier(n_estimators=1, max_depth=10, random_state=0)\n",
    "reg_dt.fit(xTrain, yTrain)\n",
    "\n",
    "# Compute Metrics \n",
    "ai.set_agent(reg_dt)\n",
    "ai.compute_metrics(reg_dt.predict(xTest), data_type=\"test\", export_title=\"Decision Tree\")"
   ]
  },
  {
   "cell_type": "markdown",
   "id": "c3ccf904-d564-43f2-888f-52b3318fdf7b",
   "metadata": {},
   "source": [
    "### Gradient Boost"
   ]
  },
  {
   "cell_type": "code",
   "execution_count": 12,
   "id": "7fe5ed08-48e9-4c57-b525-18ce21222f58",
   "metadata": {},
   "outputs": [
    {
     "name": "stdout",
     "output_type": "stream",
     "text": [
      "GUI can be viewed in new terminal\n"
     ]
    }
   ],
   "source": [
    "reg_gb = GradientBoostingClassifier(n_estimators=20, max_depth=10, random_state=0)\n",
    "reg_gb.fit(xTrain, yTrain)\n",
    "\n",
    "# Compute Metrics \n",
    "ai.set_agent(reg_gb)\n",
    "ai.compute_metrics(reg_gb.predict(xTest), data_type=\"test\", export_title=\"Gradient Boosting\")"
   ]
  },
  {
   "cell_type": "code",
   "execution_count": null,
   "id": "943b6b4f-4b81-4f9d-a27a-5e7ab7c0741f",
   "metadata": {},
   "outputs": [],
   "source": []
  }
 ],
 "metadata": {
  "kernelspec": {
   "display_name": "Python 3 (ipykernel)",
   "language": "python",
   "name": "python3"
  },
  "language_info": {
   "codemirror_mode": {
    "name": "ipython",
    "version": 3
   },
   "file_extension": ".py",
   "mimetype": "text/x-python",
   "name": "python",
   "nbconvert_exporter": "python",
   "pygments_lexer": "ipython3",
   "version": "3.8.12"
  }
 },
 "nbformat": 4,
 "nbformat_minor": 5
}
